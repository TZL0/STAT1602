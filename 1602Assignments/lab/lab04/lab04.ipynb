{
 "cells": [
  {
   "cell_type": "code",
   "execution_count": 2,
   "metadata": {
    "deletable": false,
    "editable": false,
    "ExecuteTime": {
     "end_time": "2024-02-17T05:22:57.416608Z",
     "start_time": "2024-02-17T05:22:57.296591Z"
    }
   },
   "outputs": [],
   "source": [
    "# Initialize Otter\n",
    "import otter\n",
    "grader = otter.Notebook(\"lab04.ipynb\")"
   ],
   "id": "b390f0830f781867"
  },
  {
   "cell_type": "markdown",
   "metadata": {},
   "source": [
    "# Lab 4: Functions and Visualizations"
   ],
   "id": "b4f490e3e0b3eb47"
  },
  {
   "cell_type": "markdown",
   "metadata": {},
   "source": [
    "Welcome to Lab 4! This week, we'll learn about functions, table methods such as `apply`, and how to generate visualizations! \n",
    "\n",
    "Recommended Reading:\n",
    "\n",
    "* [Applying a Function to a Column](https://inferentialthinking.com/chapters/08/1/Applying_a_Function_to_a_Column.html)\n",
    "* [Visualizations](https://inferentialthinking.com/chapters/07/Visualization.html)\n",
    "* [Python Reference](http://data8.org/sp22/python-reference.html)\n",
    "\n",
    "**Submission**: Once you’re finished, run all cells besides the last one, select File > Save Notebook, and then execute the final cell. Then submit the downloaded zip file, that includes your notebook,  according to your instructor's directions."
   ],
   "id": "1e3d323d6199fad"
  },
  {
   "cell_type": "markdown",
   "metadata": {},
   "source": [
    "First, set up the notebook by running the cell below."
   ],
   "id": "57a6ec10f07cac74"
  },
  {
   "cell_type": "code",
   "execution_count": 3,
   "metadata": {
    "ExecuteTime": {
     "end_time": "2024-02-17T05:23:02.295313Z",
     "start_time": "2024-02-17T05:23:00.086979Z"
    }
   },
   "outputs": [],
   "source": [
    "import numpy as np\n",
    "from datascience import *\n",
    "\n",
    "# These lines set up graphing capabilities.\n",
    "import matplotlib\n",
    "%matplotlib inline\n",
    "import matplotlib.pyplot as plt\n",
    "plt.style.use('fivethirtyeight')\n",
    "import warnings\n",
    "warnings.simplefilter('ignore', FutureWarning)\n",
    "\n",
    "from ipywidgets import interact, interactive, fixed, interact_manual\n",
    "import ipywidgets as widgets\n",
    "\n",
    "import d8error"
   ],
   "id": "c950e0ee14298f9a"
  },
  {
   "cell_type": "markdown",
   "metadata": {},
   "source": [
    "## 1. Defining functions\n",
    "\n",
    "Let's write a very simple function that converts a proportion to a percentage by multiplying it by 100.  For example, the value of `to_percentage(.5)` should be the number 50 (no percent sign).\n",
    "\n",
    "A function definition has a few parts."
   ],
   "id": "5c49efdc231ba951"
  },
  {
   "cell_type": "markdown",
   "metadata": {},
   "source": [
    "##### `def`\n",
    "It always starts with `def` (short for **def**ine):\n",
    "\n",
    "    def"
   ],
   "id": "c63df413c5373727"
  },
  {
   "cell_type": "markdown",
   "metadata": {},
   "source": [
    "##### Name\n",
    "Next comes the name of the function.  Like other names we've defined, it can't start with a number or contain spaces. Let's call our function `to_percentage`:\n",
    "    \n",
    "    def to_percentage"
   ],
   "id": "914f7a0091fee979"
  },
  {
   "cell_type": "markdown",
   "metadata": {},
   "source": [
    "##### Signature\n",
    "Next comes something called the *signature* of the function.  This tells Python how many arguments your function should have, and what names you'll use to refer to those arguments in the function's code.  A function can have any number of arguments (including 0!). \n",
    "\n",
    "`to_percentage` should take one argument, and we'll call that argument `proportion` since it should be a proportion.\n",
    "\n",
    "    def to_percentage(proportion)\n",
    "    \n",
    "If we want our function to take more than one argument, we add a comma between each argument name. Note that if we had zero arguments, we'd still place the parentheses () after that name. \n",
    "\n",
    "We put a **colon** after the signature to tell Python that the next indented lines are the body of the function. If you're getting a syntax error after defining a function, check to make sure you remembered the colon!\n",
    "\n",
    "    def to_percentage(proportion):"
   ],
   "id": "bac0c5a9a44235c6"
  },
  {
   "cell_type": "markdown",
   "metadata": {},
   "source": [
    "##### Documentation\n",
    "Functions can do complicated things, so you should write an explanation of what your function does.  For small functions, this is less important, but it's a good habit to learn from the start.  Conventionally, Python functions are documented by writing an **indented** triple-quoted string:\n",
    "\n",
    "    def to_percentage(proportion):\n",
    "        \"\"\"Converts a proportion to a percentage.\"\"\""
   ],
   "id": "55b28c4455312256"
  },
  {
   "cell_type": "markdown",
   "metadata": {},
   "source": [
    "##### Body\n",
    "Now we start writing code that runs when the function is called.  This is called the *body* of the function and every line **must be indented with a tab**.  Any lines that are *not* indented and left-aligned with the def statement is considered outside the function. \n",
    "\n",
    "Some notes about the body of the function:\n",
    "- We can write code that we would write anywhere else.  \n",
    "- We use the arguments defined in the function signature. We can do this because we assume that when we call the function, values are already assigned to those arguments.\n",
    "- We generally avoid referencing variables defined *outside* the function. If you would like to reference variables outside of the function, pass them through as arguments!\n",
    "\n",
    "\n",
    "Now, let's give a name to the number we multiply a proportion by to get a percentage:\n",
    "\n",
    "    def to_percentage(proportion):\n",
    "        \"\"\"Converts a proportion to a percentage.\"\"\"\n",
    "        factor = 100"
   ],
   "id": "40259ee21d513bcd"
  },
  {
   "cell_type": "markdown",
   "metadata": {},
   "source": [
    "##### `return`\n",
    "The special instruction `return` is part of the function's body and tells Python to make the value of the function call equal to whatever comes right after `return`.  We want the value of `to_percentage(.5)` to be the proportion .5 times the factor 100, so we write:\n",
    "\n",
    "    def to_percentage(proportion):\n",
    "        \"\"\"Converts a proportion to a percentage.\"\"\"\n",
    "        factor = 100\n",
    "        return proportion * factor\n",
    "        \n",
    "`return` only makes sense in the context of a function, and **can never be used outside of a function**. `return` is always the last line of the function because Python stops executing the body of a function once it hits a `return` statement. If a function does not have a return statement, it will not return anything; if you expect a value back from the function, make sure to include a return statement. \n",
    "\n",
    "*Note:*  `return` inside a function tells Python what value the function evaluates to. However, there are other functions, like `print`, that have no `return` value. For example, `print` simply prints a certain value out to the console. \n",
    "\n",
    "In short, `return` is used when you want to tell the *computer* what the value of some variable is, while `print` is used to tell you, a *human*, its value."
   ],
   "id": "183e2b2d093b6d2d"
  },
  {
   "cell_type": "markdown",
   "metadata": {},
   "source": [
    "**Question 1.1.** Define `to_percentage` in the cell below.  Call your function to convert the proportion .2 to a percentage.  Name that percentage `twenty_percent`.\n"
   ],
   "id": "8385d19ad4f7da51"
  },
  {
   "cell_type": "code",
   "execution_count": 4,
   "metadata": {
    "tags": [],
    "ExecuteTime": {
     "end_time": "2024-02-17T05:23:37.597113Z",
     "start_time": "2024-02-17T05:23:37.546812Z"
    }
   },
   "outputs": [
    {
     "data": {
      "text/plain": "20.0"
     },
     "execution_count": 4,
     "metadata": {},
     "output_type": "execute_result"
    }
   ],
   "source": [
    "def to_percentage(proportion):\n",
    "    return proportion * 100\n",
    "\n",
    "twenty_percent = to_percentage(.2)\n",
    "twenty_percent"
   ],
   "id": "b50d5d650a327b83"
  },
  {
   "cell_type": "code",
   "execution_count": 5,
   "metadata": {
    "deletable": false,
    "editable": false,
    "ExecuteTime": {
     "end_time": "2024-02-17T05:23:39.561278Z",
     "start_time": "2024-02-17T05:23:39.490127Z"
    }
   },
   "outputs": [
    {
     "data": {
      "text/plain": "q11 results: All test cases passed!",
      "text/html": "<p><strong><pre style='display: inline;'>q11</pre></strong> passed! 🎉</p>"
     },
     "execution_count": 5,
     "metadata": {},
     "output_type": "execute_result"
    }
   ],
   "source": [
    "grader.check(\"q11\")"
   ],
   "id": "42c42f26957610f9"
  },
  {
   "cell_type": "markdown",
   "metadata": {},
   "source": [
    "Here's something important about functions: the names assigned *within* a function body are only accessible within the function body. Once the function has returned, those names are gone.  So even if you created a variable called `factor` and defined `factor = 100` inside of the body of the `to_percentage` function and then called `to_percentage`, `factor` would not have a value assigned to it outside of the body of `to_percentage`:\n",
    "\n",
    "**Note**: Below, you should see an error message starting with \"Uh-o\", along with the official error from Python under it. The first message that you see is specifically from Data 8 Staff to provide extra debugging help. It will not appear if you run into Python errors outside of Data 8."
   ],
   "id": "b90a19e580159b96"
  },
  {
   "cell_type": "code",
   "execution_count": 6,
   "metadata": {
    "deletable": false,
    "tags": [
     "raises-exception"
    ],
    "ExecuteTime": {
     "end_time": "2024-02-17T05:23:45.983305Z",
     "start_time": "2024-02-17T05:23:45.022610Z"
    }
   },
   "outputs": [
    {
     "data": {
      "text/plain": "<IPython.core.display.Markdown object>",
      "text/markdown": "## **Uh-o it seems we have an error!**"
     },
     "metadata": {},
     "output_type": "display_data"
    },
    {
     "data": {
      "text/plain": "<IPython.core.display.Markdown object>",
      "text/markdown": "It seems we have a NameError. NameErrors are usually because of:"
     },
     "metadata": {},
     "output_type": "display_data"
    },
    {
     "data": {
      "text/plain": "<IPython.core.display.Markdown object>",
      "text/markdown": "1. Misspelling a variable, function, or method name "
     },
     "metadata": {},
     "output_type": "display_data"
    },
    {
     "data": {
      "text/plain": "<IPython.core.display.Markdown object>",
      "text/markdown": "2. Not importing required libraries, i.e not running the cell with `import numpy as np`"
     },
     "metadata": {},
     "output_type": "display_data"
    },
    {
     "data": {
      "text/plain": "<IPython.core.display.Markdown object>",
      "text/markdown": "3. Kernel died. You might need to re-run cells to redefine variables"
     },
     "metadata": {},
     "output_type": "display_data"
    },
    {
     "data": {
      "text/plain": "<IPython.core.display.Markdown object>",
      "text/markdown": "The Data 8 Reference might be helpful to look over for examples and usage: [Data 8 Reference](http://data8.org/sp22/python-reference.html)"
     },
     "metadata": {},
     "output_type": "display_data"
    },
    {
     "data": {
      "text/plain": "<IPython.core.display.Markdown object>",
      "text/markdown": "If you are having more trouble please feel free to consult a staff member                         \n or see the error message below "
     },
     "metadata": {},
     "output_type": "display_data"
    },
    {
     "data": {
      "text/plain": "Accordion(children=(VBox(children=(VBox(children=(Label(value='Was the message you saw useful?'), Dropdown(opt…",
      "application/vnd.jupyter.widget-view+json": {
       "version_major": 2,
       "version_minor": 0,
       "model_id": "86b02ddba6e84f3e842ce2d85c5366af"
      }
     },
     "metadata": {},
     "output_type": "display_data"
    },
    {
     "ename": "NameError",
     "evalue": "name 'factor' is not defined",
     "output_type": "error",
     "traceback": [
      "\u001B[0;31m---------------------------------------------------------------------------\u001B[0m",
      "\u001B[0;31mNameError\u001B[0m                                 Traceback (most recent call last)",
      "Cell \u001B[0;32mIn[6], line 3\u001B[0m\n\u001B[1;32m      1\u001B[0m \u001B[38;5;66;03m# You should get an error when you run this.  (If you don't, \u001B[39;00m\n\u001B[1;32m      2\u001B[0m \u001B[38;5;66;03m# you might have defined factor somewhere above.)\u001B[39;00m\n\u001B[0;32m----> 3\u001B[0m \u001B[43mfactor\u001B[49m\n",
      "\u001B[0;31mNameError\u001B[0m: name 'factor' is not defined"
     ]
    }
   ],
   "source": [
    "# You should get an error when you run this.  (If you don't, \n",
    "# you might have defined factor somewhere above.)\n",
    "factor"
   ],
   "id": "73ac83ca7dad053c"
  },
  {
   "cell_type": "markdown",
   "metadata": {},
   "source": [
    "Like you’ve done with built-in functions in previous labs (max, abs, etc.), you can pass in named values as arguments to your function.\n",
    "\n",
    "**Question 1.2.** Use `to_percentage` again to convert the proportion named `a_proportion` (defined below) to a percentage called `a_percentage`.\n",
    "\n",
    "*Note:* You don't need to define `to_percentage` again!  Like other named values, functions stick around after you define them.\n"
   ],
   "id": "a567710af34a8eb9"
  },
  {
   "cell_type": "code",
   "execution_count": 7,
   "metadata": {
    "tags": [],
    "ExecuteTime": {
     "end_time": "2024-02-17T05:23:50.633387Z",
     "start_time": "2024-02-17T05:23:50.615325Z"
    }
   },
   "outputs": [
    {
     "data": {
      "text/plain": "70.71067811865476"
     },
     "execution_count": 7,
     "metadata": {},
     "output_type": "execute_result"
    }
   ],
   "source": [
    "a_proportion = 2**(0.5) / 2\n",
    "a_percentage = to_percentage(a_proportion)\n",
    "a_percentage"
   ],
   "id": "f3d38f84499e2442"
  },
  {
   "cell_type": "code",
   "execution_count": 8,
   "metadata": {
    "ExecuteTime": {
     "end_time": "2024-02-17T05:23:52.289319Z",
     "start_time": "2024-02-17T05:23:52.252202Z"
    }
   },
   "outputs": [
    {
     "data": {
      "text/plain": "True"
     },
     "execution_count": 8,
     "metadata": {},
     "output_type": "execute_result"
    }
   ],
   "source": [
    "np.isclose(a_percentage, 70.71067811865476)"
   ],
   "id": "ce86b0a2703b33a3"
  },
  {
   "cell_type": "markdown",
   "metadata": {},
   "source": [
    "As we've seen with built-in functions, functions can also take strings (or arrays, or tables) as arguments, and they can return those things, too.\n",
    "\n",
    "In the following cell, we will define a function called `disemvowel`.  It takes in a single string as its argument. It returns a copy of that string, but with all the characters that are vowels removed.  (In English, the vowels are the characters \"a\", \"e\", \"i\", \"o\", and \"u\".) \n",
    "\n",
    "To remove all the \"a\"s from a string, we used `a_string.replace(\"a\", \"\")`.  The `.replace` method for strings returns a new string, so we can call `replace` multiple times, one after the other. "
   ],
   "id": "e2f51f399bef67d0"
  },
  {
   "cell_type": "code",
   "execution_count": 9,
   "metadata": {
    "ExecuteTime": {
     "end_time": "2024-02-17T05:24:01.068286Z",
     "start_time": "2024-02-17T05:24:01.053884Z"
    }
   },
   "outputs": [
    {
     "data": {
      "text/plain": "'Cn y rd ths wtht vwls?'"
     },
     "execution_count": 9,
     "metadata": {},
     "output_type": "execute_result"
    }
   ],
   "source": [
    "def disemvowel(a_string):\n",
    "    \"\"\"Removes all vowels from a string.\"\"\"\n",
    "    return a_string.replace(\"a\", \"\").replace(\"e\", \"\").replace(\"i\", \"\").replace(\"o\", \"\").replace(\"u\", \"\")\n",
    "\n",
    "# An example call to the function.  (It's often helpful to run\n",
    "# an example call from time to time while we're writing a function,\n",
    "# to see how it currently works.)\n",
    "disemvowel(\"Can you read this without vowels?\")"
   ],
   "id": "28660b0b8082d820"
  },
  {
   "cell_type": "markdown",
   "metadata": {},
   "source": [
    "##### Calls on calls on calls\n",
    "Just as you write a series of lines to build up a complex computation, it's useful to define a series of small functions that build on each other.  Since you can write any code inside a function's body, you can call other functions you've written.\n",
    "\n",
    "If a function is a like a recipe, defining a function in terms of other functions is like having a recipe for cake telling you to follow another recipe to make the frosting, and another to make the jam filling.  This makes the cake recipe shorter and clearer, and it avoids having a bunch of duplicated frosting recipes.  It's a foundation of productive programming.\n",
    "\n",
    "For example, suppose you want to count the number of characters *that aren't vowels* in a piece of text.  One way to do that is this to remove all the vowels and count the size of the remaining string.\n",
    "\n",
    "**Question 1.3.** Write a function called `num_non_vowels`.  It should take a string as its argument and return a number.  That number should be the number of characters in the argument string that aren't vowels. You should use the `disemvowel` function we provided above inside of the `num_non_vowels` function.\n",
    "\n",
    "*Hint:* The function `len` takes a string as its argument and returns the number of characters in it.\n"
   ],
   "id": "bc7d08ca3c8c0c57"
  },
  {
   "cell_type": "code",
   "execution_count": 10,
   "metadata": {
    "tags": [],
    "ExecuteTime": {
     "end_time": "2024-02-17T05:24:22.597061Z",
     "start_time": "2024-02-17T05:24:22.579238Z"
    }
   },
   "outputs": [],
   "source": [
    "def num_non_vowels(a_string):\n",
    "    \"\"\"The number of characters in a string, minus the vowels.\"\"\"\n",
    "    return len(disemvowel(a_string))\n",
    "\n",
    "# Try calling your function yourself to make sure the output is what\n",
    "# you expect. "
   ],
   "id": "915bceb7bf4988da"
  },
  {
   "cell_type": "code",
   "execution_count": 11,
   "metadata": {
    "deletable": false,
    "editable": false,
    "ExecuteTime": {
     "end_time": "2024-02-17T05:24:24.238419Z",
     "start_time": "2024-02-17T05:24:24.206896Z"
    }
   },
   "outputs": [
    {
     "data": {
      "text/plain": "q13 results: All test cases passed!",
      "text/html": "<p><strong><pre style='display: inline;'>q13</pre></strong> passed! 🙌</p>"
     },
     "execution_count": 11,
     "metadata": {},
     "output_type": "execute_result"
    }
   ],
   "source": [
    "grader.check(\"q13\")"
   ],
   "id": "65816d4e9ce54f5f"
  },
  {
   "cell_type": "markdown",
   "metadata": {},
   "source": [
    "Functions can also encapsulate code that *displays output* instead of computing a value. For example, if you call `print` inside a function, and then call that function, something will get printed.\n",
    "\n",
    "The `movies_by_year` dataset in the textbook has information about movie sales in recent years.  Suppose you'd like to display the year with the 5th-highest total gross movie sales, printed within a sentence.  You might do this:"
   ],
   "id": "aa4f4bed3b4a23fc"
  },
  {
   "cell_type": "code",
   "execution_count": 12,
   "metadata": {
    "ExecuteTime": {
     "end_time": "2024-02-17T05:24:27.061771Z",
     "start_time": "2024-02-17T05:24:27.029687Z"
    }
   },
   "outputs": [
    {
     "name": "stdout",
     "output_type": "stream",
     "text": [
      "Year number 5 for total gross movie sales was: 2010\n"
     ]
    }
   ],
   "source": [
    "movies_by_year = Table.read_table(\"movies_by_year.csv\")\n",
    "rank = 5\n",
    "fifth_from_top_movie_year = movies_by_year.sort(\"Total Gross\", descending=True).column(\"Year\").item(rank-1)\n",
    "print(\"Year number\", rank, \"for total gross movie sales was:\", fifth_from_top_movie_year)"
   ],
   "id": "e7646da99bc8c220"
  },
  {
   "cell_type": "markdown",
   "metadata": {},
   "source": [
    "After writing this, you realize you also wanted to print out the 2nd and 3rd-highest years.  Instead of copying your code, you decide to put it in a function.  Since the rank varies, you make that an argument to your function.\n",
    "\n",
    "**Question 1.4.** Write a function called `print_kth_top_movie_year`.  It should take a single argument, the rank of the year (like 2, 3, or 5 in the above examples) and should use the table `movies_by_year`. It should print out a message like the one above.  \n",
    "\n",
    "*Note:* Your function shouldn't have a `return` statement.\n"
   ],
   "id": "bc479d86689531fd"
  },
  {
   "cell_type": "code",
   "execution_count": 13,
   "metadata": {
    "tags": [],
    "ExecuteTime": {
     "end_time": "2024-02-17T05:24:52.794796Z",
     "start_time": "2024-02-17T05:24:52.755558Z"
    }
   },
   "outputs": [
    {
     "name": "stdout",
     "output_type": "stream",
     "text": [
      "Year number 2 for total gross movie sales was: 2013\n",
      "Year number 3 for total gross movie sales was: 2012\n"
     ]
    }
   ],
   "source": [
    "def print_kth_top_movie_year(k):\n",
    "    print(\"Year number\", k, \"for total gross movie sales was:\", movies_by_year.sort(\"Total Gross\", descending=True).column(\"Year\").item(k-1))\n",
    "\n",
    "# Example calls to your function:\n",
    "print_kth_top_movie_year(2)\n",
    "print_kth_top_movie_year(3)"
   ],
   "id": "a00fdedb3550dbf6"
  },
  {
   "cell_type": "code",
   "execution_count": 14,
   "metadata": {
    "deletable": false,
    "editable": false,
    "ExecuteTime": {
     "end_time": "2024-02-17T05:24:57.418170Z",
     "start_time": "2024-02-17T05:24:57.402037Z"
    }
   },
   "outputs": [
    {
     "data": {
      "text/plain": "q14 results: All test cases passed!",
      "text/html": "<p><strong><pre style='display: inline;'>q14</pre></strong> passed! 🌟</p>"
     },
     "execution_count": 14,
     "metadata": {},
     "output_type": "execute_result"
    }
   ],
   "source": [
    "grader.check(\"q14\")"
   ],
   "id": "e694416eb6f0116b"
  },
  {
   "cell_type": "code",
   "execution_count": 15,
   "metadata": {
    "ExecuteTime": {
     "end_time": "2024-02-17T05:25:03.887995Z",
     "start_time": "2024-02-17T05:25:03.852529Z"
    }
   },
   "outputs": [
    {
     "data": {
      "text/plain": "interactive(children=(Dropdown(description='k', options=(1, 2, 3, 4, 5, 6, 7, 8, 9), value=1), Output()), _dom…",
      "application/vnd.jupyter.widget-view+json": {
       "version_major": 2,
       "version_minor": 0,
       "model_id": "e39bd61eb7a240b4bd7427443a3f9524"
      }
     },
     "metadata": {},
     "output_type": "display_data"
    }
   ],
   "source": [
    "# interact also allows you to pass in an array for a function argument. It will\n",
    "# then present a dropdown menu of options.\n",
    "_ = interact(print_kth_top_movie_year, k=np.arange(1, 10))"
   ],
   "id": "43e6d8ec4c037f03"
  },
  {
   "cell_type": "markdown",
   "metadata": {},
   "source": [
    "### `print` is not the same as `return`\n",
    "The `print_kth_top_movie_year(k)` function prints the total gross movie sales for the year that was provided! However, since we did not return any value in this function, we can not use it after we call it. Let's look at an example of another function that prints a value but does not return it."
   ],
   "id": "ab0812a92abe79c4"
  },
  {
   "cell_type": "code",
   "execution_count": 16,
   "metadata": {
    "ExecuteTime": {
     "end_time": "2024-02-17T05:25:13.792479Z",
     "start_time": "2024-02-17T05:25:13.775409Z"
    }
   },
   "outputs": [],
   "source": [
    "def print_number_five():\n",
    "    print(5)"
   ],
   "id": "d850f66d01aaf8f5"
  },
  {
   "cell_type": "code",
   "execution_count": 17,
   "metadata": {
    "ExecuteTime": {
     "end_time": "2024-02-17T05:25:15.145807Z",
     "start_time": "2024-02-17T05:25:15.132439Z"
    }
   },
   "outputs": [
    {
     "name": "stdout",
     "output_type": "stream",
     "text": [
      "5\n"
     ]
    }
   ],
   "source": [
    "print_number_five()"
   ],
   "id": "2ffd349ff2c7fbca"
  },
  {
   "cell_type": "markdown",
   "metadata": {},
   "source": [
    "However, if we try to use the output of `print_number_five()`, we see that the value `5` is printed but we get a TypeError when we try to add the number 2 to it!"
   ],
   "id": "3aa7802583ca6676"
  },
  {
   "cell_type": "code",
   "execution_count": 18,
   "metadata": {
    "tags": [
     "raises-exception"
    ],
    "ExecuteTime": {
     "end_time": "2024-02-17T05:25:17.740356Z",
     "start_time": "2024-02-17T05:25:17.618789Z"
    }
   },
   "outputs": [
    {
     "name": "stdout",
     "output_type": "stream",
     "text": [
      "5\n"
     ]
    },
    {
     "data": {
      "text/plain": "<IPython.core.display.Markdown object>",
      "text/markdown": "## **Uh-o it seems we have an error!**"
     },
     "metadata": {},
     "output_type": "display_data"
    },
    {
     "data": {
      "text/plain": "<IPython.core.display.Markdown object>",
      "text/markdown": "It seems we have a TypeError. TypeErrors are usually because of:"
     },
     "metadata": {},
     "output_type": "display_data"
    },
    {
     "data": {
      "text/plain": "<IPython.core.display.Markdown object>",
      "text/markdown": "1. Using the wrong type of input, i.e `np.arange(\"3\")`"
     },
     "metadata": {},
     "output_type": "display_data"
    },
    {
     "data": {
      "text/plain": "<IPython.core.display.Markdown object>",
      "text/markdown": "The Data 8 Reference might be helpful to look over for examples and usage: [Data 8 Reference](http://data8.org/sp22/python-reference.html)"
     },
     "metadata": {},
     "output_type": "display_data"
    },
    {
     "data": {
      "text/plain": "<IPython.core.display.Markdown object>",
      "text/markdown": "If you are having more trouble please feel free to consult a staff member                         \n or see the error message below "
     },
     "metadata": {},
     "output_type": "display_data"
    },
    {
     "data": {
      "text/plain": "Accordion(children=(VBox(children=(VBox(children=(Label(value='Was the message you saw useful?'), Dropdown(opt…",
      "application/vnd.jupyter.widget-view+json": {
       "version_major": 2,
       "version_minor": 0,
       "model_id": "8a70560515de4584b87fdcbd110bcda3"
      }
     },
     "metadata": {},
     "output_type": "display_data"
    },
    {
     "ename": "TypeError",
     "evalue": "unsupported operand type(s) for +: 'NoneType' and 'int'",
     "output_type": "error",
     "traceback": [
      "\u001B[0;31m---------------------------------------------------------------------------\u001B[0m",
      "\u001B[0;31mTypeError\u001B[0m                                 Traceback (most recent call last)",
      "Cell \u001B[0;32mIn[18], line 2\u001B[0m\n\u001B[1;32m      1\u001B[0m print_number_five_output \u001B[38;5;241m=\u001B[39m print_number_five()\n\u001B[0;32m----> 2\u001B[0m \u001B[43mprint_number_five_output\u001B[49m\u001B[43m \u001B[49m\u001B[38;5;241;43m+\u001B[39;49m\u001B[43m \u001B[49m\u001B[38;5;241;43m2\u001B[39;49m\n",
      "\u001B[0;31mTypeError\u001B[0m: unsupported operand type(s) for +: 'NoneType' and 'int'"
     ]
    }
   ],
   "source": [
    "print_number_five_output = print_number_five()\n",
    "print_number_five_output + 2"
   ],
   "id": "fc12281a9411ab8a"
  },
  {
   "cell_type": "markdown",
   "metadata": {},
   "source": [
    "It may seem that `print_number_five()` is returning a value, 5. In reality, it just displays the number 5 to you without giving you the actual value! If your function prints out a value **without returning it** and you try to use that value, you will run into errors, so be careful!\n",
    "\n",
    "Explain to your neighbor or a staff member how you might add a line of code to the `print_number_five` function (after `print(5)`) so that the code `print_number_five_output + 5` would result in the value `10`, rather than an error."
   ],
   "id": "ca5d12d2bcb588e8"
  },
  {
   "cell_type": "markdown",
   "metadata": {},
   "source": [
    "## 2. Functions and CEO Incomes\n",
    "\n",
    "In this question, we'll look at the 2015 compensation of CEOs at the 100 largest companies in California. The data was compiled from a [Los Angeles Times analysis](http://spreadsheets.latimes.com/california-ceo-compensation/), and ultimately came from [filings](https://www.sec.gov/answers/proxyhtf.htm) mandated by the SEC from all publicly-traded companies. Two companies have two CEOs, so there are 102 CEOs in the dataset.\n",
    "\n",
    "We've copied the raw data from the LA Times page into a file called `raw_compensation.csv`. (The page notes that all dollar amounts are in **millions of dollars**.)"
   ],
   "id": "b6436944971be354"
  },
  {
   "cell_type": "code",
   "execution_count": 19,
   "metadata": {
    "ExecuteTime": {
     "end_time": "2024-02-17T05:25:24.365034Z",
     "start_time": "2024-02-17T05:25:24.317246Z"
    }
   },
   "outputs": [
    {
     "data": {
      "text/plain": "Rank | Name               | Company (Headquarters)         | Total Pay | % Change           | Cash Pay | Equity Pay | Other Pay | Ratio of CEO pay to average industry worker pay\n1    | Mark V. Hurd*      | Oracle (Redwood City)          | $53.25    | (No previous year) | $0.95    | $52.27     | $0.02     | 362\n2    | Safra A. Catz*     | Oracle (Redwood City)          | $53.24    | (No previous year) | $0.95    | $52.27     | $0.02     | 362\n3    | Robert A. Iger     | Walt Disney (Burbank)          | $44.91    | -3%                | $24.89   | $17.28     | $2.74     | 477\n4    | Marissa A. Mayer   | Yahoo! (Sunnyvale)             | $35.98    | -15%               | $1.00    | $34.43     | $0.55     | 342\n5    | Marc Benioff       | salesforce.com (San Francisco) | $33.36    | -16%               | $4.65    | $27.26     | $1.45     | 338\n6    | John H. Hammergren | McKesson (San Francisco)       | $24.84    | -4%                | $12.10   | $12.37     | $0.37     | 222\n7    | John S. Watson     | Chevron (San Ramon)            | $22.04    | -15%               | $4.31    | $14.68     | $3.05     | 183\n8    | Jeffrey Weiner     | LinkedIn (Mountain View)       | $19.86    | 27%                | $2.47    | $17.26     | $0.13     | 182\n9    | John T. Chambers** | Cisco Systems (San Jose)       | $19.62    | 19%                | $5.10    | $14.51     | $0.01     | 170\n10   | John G. Stumpf     | Wells Fargo  (San Francisco)   | $19.32    | -10%               | $6.80    | $12.50     | $0.02     | 256\n... (91 rows omitted)",
      "text/html": "<table border=\"1\" class=\"dataframe\">\n    <thead>\n        <tr>\n            <th>Rank</th> <th>Name</th> <th>Company (Headquarters)</th> <th>Total Pay</th> <th>% Change</th> <th>Cash Pay</th> <th>Equity Pay</th> <th>Other Pay</th> <th>Ratio of CEO pay to average industry worker pay</th>\n        </tr>\n    </thead>\n    <tbody>\n        <tr>\n            <td>1   </td> <td>Mark V. Hurd*     </td> <td>Oracle (Redwood City)         </td> <td>$53.25   </td> <td>(No previous year)</td> <td>$0.95   </td> <td>$52.27    </td> <td>$0.02    </td> <td>362                                            </td>\n        </tr>\n        <tr>\n            <td>2   </td> <td>Safra A. Catz*    </td> <td>Oracle (Redwood City)         </td> <td>$53.24   </td> <td>(No previous year)</td> <td>$0.95   </td> <td>$52.27    </td> <td>$0.02    </td> <td>362                                            </td>\n        </tr>\n        <tr>\n            <td>3   </td> <td>Robert A. Iger    </td> <td>Walt Disney (Burbank)         </td> <td>$44.91   </td> <td>-3%               </td> <td>$24.89  </td> <td>$17.28    </td> <td>$2.74    </td> <td>477                                            </td>\n        </tr>\n        <tr>\n            <td>4   </td> <td>Marissa A. Mayer  </td> <td>Yahoo! (Sunnyvale)            </td> <td>$35.98   </td> <td>-15%              </td> <td>$1.00   </td> <td>$34.43    </td> <td>$0.55    </td> <td>342                                            </td>\n        </tr>\n        <tr>\n            <td>5   </td> <td>Marc Benioff      </td> <td>salesforce.com (San Francisco)</td> <td>$33.36   </td> <td>-16%              </td> <td>$4.65   </td> <td>$27.26    </td> <td>$1.45    </td> <td>338                                            </td>\n        </tr>\n        <tr>\n            <td>6   </td> <td>John H. Hammergren</td> <td>McKesson (San Francisco)      </td> <td>$24.84   </td> <td>-4%               </td> <td>$12.10  </td> <td>$12.37    </td> <td>$0.37    </td> <td>222                                            </td>\n        </tr>\n        <tr>\n            <td>7   </td> <td>John S. Watson    </td> <td>Chevron (San Ramon)           </td> <td>$22.04   </td> <td>-15%              </td> <td>$4.31   </td> <td>$14.68    </td> <td>$3.05    </td> <td>183                                            </td>\n        </tr>\n        <tr>\n            <td>8   </td> <td>Jeffrey Weiner    </td> <td>LinkedIn (Mountain View)      </td> <td>$19.86   </td> <td>27%               </td> <td>$2.47   </td> <td>$17.26    </td> <td>$0.13    </td> <td>182                                            </td>\n        </tr>\n        <tr>\n            <td>9   </td> <td>John T. Chambers**</td> <td>Cisco Systems (San Jose)      </td> <td>$19.62   </td> <td>19%               </td> <td>$5.10   </td> <td>$14.51    </td> <td>$0.01    </td> <td>170                                            </td>\n        </tr>\n        <tr>\n            <td>10  </td> <td>John G. Stumpf    </td> <td>Wells Fargo  (San Francisco)  </td> <td>$19.32   </td> <td>-10%              </td> <td>$6.80   </td> <td>$12.50    </td> <td>$0.02    </td> <td>256                                            </td>\n        </tr>\n    </tbody>\n</table>\n<p>... (91 rows omitted)</p>"
     },
     "execution_count": 19,
     "metadata": {},
     "output_type": "execute_result"
    }
   ],
   "source": [
    "raw_compensation = Table.read_table('raw_compensation.csv')\n",
    "raw_compensation"
   ],
   "id": "3206ca84aa14f873"
  },
  {
   "cell_type": "markdown",
   "metadata": {},
   "source": [
    "We want to compute the average of the CEOs' pay. Try running the cell below."
   ],
   "id": "317e6d7bb1de035b"
  },
  {
   "cell_type": "code",
   "execution_count": 20,
   "metadata": {
    "tags": [
     "raises-exception"
    ],
    "ExecuteTime": {
     "end_time": "2024-02-17T05:25:27.688900Z",
     "start_time": "2024-02-17T05:25:27.264596Z"
    }
   },
   "outputs": [
    {
     "ename": "UFuncTypeError",
     "evalue": "ufunc 'add' did not contain a loop with signature matching types (dtype('<U7'), dtype('<U7')) -> None",
     "output_type": "error",
     "traceback": [
      "\u001B[0;31m---------------------------------------------------------------------------\u001B[0m",
      "\u001B[0;31mUFuncTypeError\u001B[0m                            Traceback (most recent call last)",
      "Cell \u001B[0;32mIn[20], line 1\u001B[0m\n\u001B[0;32m----> 1\u001B[0m \u001B[43mnp\u001B[49m\u001B[38;5;241;43m.\u001B[39;49m\u001B[43maverage\u001B[49m\u001B[43m(\u001B[49m\u001B[43mraw_compensation\u001B[49m\u001B[38;5;241;43m.\u001B[39;49m\u001B[43mcolumn\u001B[49m\u001B[43m(\u001B[49m\u001B[38;5;124;43m\"\u001B[39;49m\u001B[38;5;124;43mTotal Pay\u001B[39;49m\u001B[38;5;124;43m\"\u001B[39;49m\u001B[43m)\u001B[49m\u001B[43m)\u001B[49m\n",
      "File \u001B[0;32m<__array_function__ internals>:180\u001B[0m, in \u001B[0;36maverage\u001B[0;34m(*args, **kwargs)\u001B[0m\n",
      "File \u001B[0;32m~/anaconda3/lib/python3.10/site-packages/numpy/lib/function_base.py:518\u001B[0m, in \u001B[0;36maverage\u001B[0;34m(a, axis, weights, returned, keepdims)\u001B[0m\n\u001B[1;32m    515\u001B[0m     keepdims_kw \u001B[38;5;241m=\u001B[39m {\u001B[38;5;124m'\u001B[39m\u001B[38;5;124mkeepdims\u001B[39m\u001B[38;5;124m'\u001B[39m: keepdims}\n\u001B[1;32m    517\u001B[0m \u001B[38;5;28;01mif\u001B[39;00m weights \u001B[38;5;129;01mis\u001B[39;00m \u001B[38;5;28;01mNone\u001B[39;00m:\n\u001B[0;32m--> 518\u001B[0m     avg \u001B[38;5;241m=\u001B[39m \u001B[43ma\u001B[49m\u001B[38;5;241;43m.\u001B[39;49m\u001B[43mmean\u001B[49m\u001B[43m(\u001B[49m\u001B[43maxis\u001B[49m\u001B[43m,\u001B[49m\u001B[43m \u001B[49m\u001B[38;5;241;43m*\u001B[39;49m\u001B[38;5;241;43m*\u001B[39;49m\u001B[43mkeepdims_kw\u001B[49m\u001B[43m)\u001B[49m\n\u001B[1;32m    519\u001B[0m     scl \u001B[38;5;241m=\u001B[39m avg\u001B[38;5;241m.\u001B[39mdtype\u001B[38;5;241m.\u001B[39mtype(a\u001B[38;5;241m.\u001B[39msize\u001B[38;5;241m/\u001B[39mavg\u001B[38;5;241m.\u001B[39msize)\n\u001B[1;32m    520\u001B[0m \u001B[38;5;28;01melse\u001B[39;00m:\n",
      "File \u001B[0;32m~/anaconda3/lib/python3.10/site-packages/numpy/core/_methods.py:180\u001B[0m, in \u001B[0;36m_mean\u001B[0;34m(a, axis, dtype, out, keepdims, where)\u001B[0m\n\u001B[1;32m    177\u001B[0m         dtype \u001B[38;5;241m=\u001B[39m mu\u001B[38;5;241m.\u001B[39mdtype(\u001B[38;5;124m'\u001B[39m\u001B[38;5;124mf4\u001B[39m\u001B[38;5;124m'\u001B[39m)\n\u001B[1;32m    178\u001B[0m         is_float16_result \u001B[38;5;241m=\u001B[39m \u001B[38;5;28;01mTrue\u001B[39;00m\n\u001B[0;32m--> 180\u001B[0m ret \u001B[38;5;241m=\u001B[39m \u001B[43mumr_sum\u001B[49m\u001B[43m(\u001B[49m\u001B[43marr\u001B[49m\u001B[43m,\u001B[49m\u001B[43m \u001B[49m\u001B[43maxis\u001B[49m\u001B[43m,\u001B[49m\u001B[43m \u001B[49m\u001B[43mdtype\u001B[49m\u001B[43m,\u001B[49m\u001B[43m \u001B[49m\u001B[43mout\u001B[49m\u001B[43m,\u001B[49m\u001B[43m \u001B[49m\u001B[43mkeepdims\u001B[49m\u001B[43m,\u001B[49m\u001B[43m \u001B[49m\u001B[43mwhere\u001B[49m\u001B[38;5;241;43m=\u001B[39;49m\u001B[43mwhere\u001B[49m\u001B[43m)\u001B[49m\n\u001B[1;32m    181\u001B[0m \u001B[38;5;28;01mif\u001B[39;00m \u001B[38;5;28misinstance\u001B[39m(ret, mu\u001B[38;5;241m.\u001B[39mndarray):\n\u001B[1;32m    182\u001B[0m     ret \u001B[38;5;241m=\u001B[39m um\u001B[38;5;241m.\u001B[39mtrue_divide(\n\u001B[1;32m    183\u001B[0m             ret, rcount, out\u001B[38;5;241m=\u001B[39mret, casting\u001B[38;5;241m=\u001B[39m\u001B[38;5;124m'\u001B[39m\u001B[38;5;124munsafe\u001B[39m\u001B[38;5;124m'\u001B[39m, subok\u001B[38;5;241m=\u001B[39m\u001B[38;5;28;01mFalse\u001B[39;00m)\n",
      "\u001B[0;31mUFuncTypeError\u001B[0m: ufunc 'add' did not contain a loop with signature matching types (dtype('<U7'), dtype('<U7')) -> None"
     ]
    }
   ],
   "source": [
    "np.average(raw_compensation.column(\"Total Pay\"))"
   ],
   "id": "795210875da73fe9"
  },
  {
   "cell_type": "markdown",
   "metadata": {},
   "source": [
    "You should see a `TypeError`. Let's examine why this error occurred by looking at the values in the `Total Pay` column. To do so, we can use the `type` function. This function tells us the data type of the object that we pass into it. Run the following cell to see what happens when we pass in `23` to the `type` function. Does the result make sense?"
   ],
   "id": "a736fa8afbef4652"
  },
  {
   "cell_type": "code",
   "execution_count": 21,
   "metadata": {
    "ExecuteTime": {
     "end_time": "2024-02-17T05:25:37.093895Z",
     "start_time": "2024-02-17T05:25:37.056558Z"
    }
   },
   "outputs": [
    {
     "data": {
      "text/plain": "int"
     },
     "execution_count": 21,
     "metadata": {},
     "output_type": "execute_result"
    }
   ],
   "source": [
    "type(23)"
   ],
   "id": "59fa8e859855f50c"
  },
  {
   "cell_type": "markdown",
   "metadata": {},
   "source": [
    "**Question 2.1.** Use the `type` function and set `total_pay_type` to the type of the first value in the \"Total Pay\" column.\n"
   ],
   "id": "875c043684322221"
  },
  {
   "cell_type": "code",
   "execution_count": 23,
   "metadata": {
    "tags": [],
    "ExecuteTime": {
     "end_time": "2024-02-17T05:26:30.684933Z",
     "start_time": "2024-02-17T05:26:30.662520Z"
    }
   },
   "outputs": [
    {
     "data": {
      "text/plain": "str"
     },
     "execution_count": 23,
     "metadata": {},
     "output_type": "execute_result"
    }
   ],
   "source": [
    "total_pay_type = type(raw_compensation.column(\"Total Pay\").item(0))\n",
    "total_pay_type"
   ],
   "id": "3531b3eca1b189ff"
  },
  {
   "cell_type": "code",
   "execution_count": 24,
   "metadata": {
    "deletable": false,
    "editable": false,
    "ExecuteTime": {
     "end_time": "2024-02-17T05:26:38.050345Z",
     "start_time": "2024-02-17T05:26:38.036722Z"
    }
   },
   "outputs": [
    {
     "data": {
      "text/plain": "q21 results: All test cases passed!",
      "text/html": "<p><strong><pre style='display: inline;'>q21</pre></strong> passed! 🌈</p>"
     },
     "execution_count": 24,
     "metadata": {},
     "output_type": "execute_result"
    }
   ],
   "source": [
    "grader.check(\"q21\")"
   ],
   "id": "6e43607f9cbcff5f"
  },
  {
   "cell_type": "markdown",
   "metadata": {},
   "source": [
    "**Question 2.2.** You should have found that the values in the `Total Pay` column are strings. It doesn't make sense to take the average of string values, so we need to convert them to numbers if we want to do this. Extract the first value in `Total Pay`.  It's Mark Hurd's pay in 2015, in *millions* of dollars.  Call it `mark_hurd_pay_string`.\n"
   ],
   "id": "303dd3da5bd4fd28"
  },
  {
   "cell_type": "code",
   "execution_count": 25,
   "metadata": {
    "tags": [],
    "ExecuteTime": {
     "end_time": "2024-02-17T05:26:56.339994Z",
     "start_time": "2024-02-17T05:26:56.260144Z"
    }
   },
   "outputs": [
    {
     "data": {
      "text/plain": "'$53.25 '"
     },
     "execution_count": 25,
     "metadata": {},
     "output_type": "execute_result"
    }
   ],
   "source": [
    "mark_hurd_pay_string = raw_compensation.column(\"Total Pay\").item(0)\n",
    "mark_hurd_pay_string"
   ],
   "id": "ef5194aea13ab956"
  },
  {
   "cell_type": "code",
   "execution_count": 26,
   "metadata": {
    "deletable": false,
    "editable": false,
    "ExecuteTime": {
     "end_time": "2024-02-17T05:26:58.141318Z",
     "start_time": "2024-02-17T05:26:58.125500Z"
    }
   },
   "outputs": [
    {
     "data": {
      "text/plain": "q22 results: All test cases passed!",
      "text/html": "<p><strong><pre style='display: inline;'>q22</pre></strong> passed! 🚀</p>"
     },
     "execution_count": 26,
     "metadata": {},
     "output_type": "execute_result"
    }
   ],
   "source": [
    "grader.check(\"q22\")"
   ],
   "id": "c9219582968f4d03"
  },
  {
   "cell_type": "markdown",
   "metadata": {},
   "source": [
    "**Question 2.3.** Convert `mark_hurd_pay_string` to a number of *dollars*. \n",
    "\n",
    "Some hints, as this question requires multiple steps:\n",
    "- The string method `strip` will be useful for removing the dollar sign; it removes a specified character from the start or end of a string.  For example, the value of `\"100%\".strip(\"%\")` is the string `\"100\"`.  \n",
    "- You'll also need the function `float`, which converts a string that looks like a number to an actual number. Don't worry about the whitespace at the end of the string; the `float` function will ignore this.\n",
    "- Finally, remember that the answer should be in dollars, not millions of dollars.\n"
   ],
   "id": "ff802b7fab874484"
  },
  {
   "cell_type": "code",
   "execution_count": 31,
   "metadata": {
    "tags": [],
    "ExecuteTime": {
     "end_time": "2024-02-17T05:28:18.687610Z",
     "start_time": "2024-02-17T05:28:18.642714Z"
    }
   },
   "outputs": [
    {
     "data": {
      "text/plain": "53250000"
     },
     "execution_count": 31,
     "metadata": {},
     "output_type": "execute_result"
    }
   ],
   "source": [
    "mark_hurd_pay = int(float(mark_hurd_pay_string.strip(\"$\").strip()) * 10**6)\n",
    "mark_hurd_pay"
   ],
   "id": "186db3ae4e2fd5a3"
  },
  {
   "cell_type": "code",
   "execution_count": 32,
   "metadata": {
    "deletable": false,
    "editable": false,
    "ExecuteTime": {
     "end_time": "2024-02-17T05:28:26.398101Z",
     "start_time": "2024-02-17T05:28:26.353278Z"
    }
   },
   "outputs": [
    {
     "data": {
      "text/plain": "q23 results: All test cases passed!",
      "text/html": "<p><strong><pre style='display: inline;'>q23</pre></strong> passed! 🙌</p>"
     },
     "execution_count": 32,
     "metadata": {},
     "output_type": "execute_result"
    }
   ],
   "source": [
    "grader.check(\"q23\")"
   ],
   "id": "72e10db0620b2d5b"
  },
  {
   "cell_type": "markdown",
   "metadata": {},
   "source": [
    "To compute the average pay, we need to do this for every CEO.  But that looks like it would involve copying this code 102 times.\n",
    "\n",
    "This is where functions come in.  First, we'll define a new function, giving a name to the expression that converts \"total pay\" strings to numeric values.  Later in this lab, we'll see the payoff: we can call that function on every pay string in the dataset at once.\n",
    "\n",
    "The next section of this lab we will get some more practice on defining functions. For this part, just fill in the ellipses in the cell below.\n",
    "\n",
    "**Question 2.4.** Copy the expression you used to compute `mark_hurd_pay`, and use it as the return expression of the function below. But make sure you replace the specific `mark_hurd_pay_string` with the generic `pay_string` name specified in the first line in the `def` statement.\n",
    "\n",
    "*Hint*: When dealing with functions, you should generally not be referencing any variable outside of the function. Usually, you want to be working with the arguments that are passed into it, such as `pay_string` for this function. If you're using `mark_hurd_pay_string` within your function, you're referencing an outside variable!\n"
   ],
   "id": "a2dc6e02852a2b7e"
  },
  {
   "cell_type": "code",
   "execution_count": 33,
   "metadata": {
    "tags": [],
    "ExecuteTime": {
     "end_time": "2024-02-17T05:28:37.849673Z",
     "start_time": "2024-02-17T05:28:37.810829Z"
    }
   },
   "outputs": [],
   "source": [
    "def convert_pay_string_to_number(pay_string):\n",
    "    \"\"\"Converts a pay string like '$100' (in millions) to a number of dollars.\"\"\"\n",
    "    ...\n",
    "    return int(float(pay_string.strip(\"$\").strip()) * 10**6)"
   ],
   "id": "d4f34dc6a23d1d4b"
  },
  {
   "cell_type": "code",
   "execution_count": 34,
   "metadata": {
    "deletable": false,
    "editable": false,
    "ExecuteTime": {
     "end_time": "2024-02-17T05:28:39.220564Z",
     "start_time": "2024-02-17T05:28:39.176812Z"
    }
   },
   "outputs": [
    {
     "data": {
      "text/plain": "q24 results: All test cases passed!",
      "text/html": "<p><strong><pre style='display: inline;'>q24</pre></strong> passed! 🎉</p>"
     },
     "execution_count": 34,
     "metadata": {},
     "output_type": "execute_result"
    }
   ],
   "source": [
    "grader.check(\"q24\")"
   ],
   "id": "8a568ef08dd8d441"
  },
  {
   "cell_type": "markdown",
   "metadata": {},
   "source": [
    "Running that cell doesn't convert any particular pay string. Instead, it creates a function called `convert_pay_string_to_number` that can convert *any* string with the right format to a number representing millions of dollars.\n",
    "\n",
    "We can call our function just like we call the built-in functions we've seen. It takes one argument, *a string*, and it returns a float."
   ],
   "id": "7f88c25e3203a175"
  },
  {
   "cell_type": "code",
   "execution_count": 35,
   "metadata": {
    "ExecuteTime": {
     "end_time": "2024-02-17T05:28:42.065667Z",
     "start_time": "2024-02-17T05:28:42.051392Z"
    }
   },
   "outputs": [
    {
     "data": {
      "text/plain": "42000000"
     },
     "execution_count": 35,
     "metadata": {},
     "output_type": "execute_result"
    }
   ],
   "source": [
    "convert_pay_string_to_number('$42')"
   ],
   "id": "b8870f3c9139dbae"
  },
  {
   "cell_type": "code",
   "execution_count": 36,
   "metadata": {
    "ExecuteTime": {
     "end_time": "2024-02-17T05:28:43.869884Z",
     "start_time": "2024-02-17T05:28:43.854962Z"
    }
   },
   "outputs": [
    {
     "data": {
      "text/plain": "53250000"
     },
     "execution_count": 36,
     "metadata": {},
     "output_type": "execute_result"
    }
   ],
   "source": [
    "convert_pay_string_to_number(mark_hurd_pay_string)"
   ],
   "id": "5260bf5b6ba75380"
  },
  {
   "cell_type": "code",
   "execution_count": 37,
   "metadata": {
    "ExecuteTime": {
     "end_time": "2024-02-17T05:28:45.683688Z",
     "start_time": "2024-02-17T05:28:45.670153Z"
    }
   },
   "outputs": [
    {
     "data": {
      "text/plain": "53240000"
     },
     "execution_count": 37,
     "metadata": {},
     "output_type": "execute_result"
    }
   ],
   "source": [
    "# We can also compute Safra Catz's pay in the same way:\n",
    "convert_pay_string_to_number(raw_compensation.where(\"Name\", are.containing(\"Safra\")).column(\"Total Pay\").item(0))"
   ],
   "id": "aeca8eead0685a48"
  },
  {
   "cell_type": "markdown",
   "metadata": {},
   "source": [
    "So, what have we gained by defining the `convert_pay_string_to_number` function? \n",
    "Well, without it, we'd have to copy the code `10**6 * float(some_pay_string.strip(\"$\"))` each time we wanted to convert a pay string.  Now we just call a function whose name says exactly what it's doing."
   ],
   "id": "d089869911bc4661"
  },
  {
   "cell_type": "markdown",
   "metadata": {},
   "source": [
    "## 3. `apply`ing functions\n",
    "\n",
    "Defining a function is a lot like giving a name to a value with `=`.  In fact, a function is a value just like the number 1 or the text \"data\"!\n",
    "\n",
    "For example, we can make a new name for the built-in function `max` if we want:"
   ],
   "id": "82a1b6fb9b3ce16a"
  },
  {
   "cell_type": "code",
   "execution_count": 38,
   "metadata": {
    "ExecuteTime": {
     "end_time": "2024-02-17T05:28:56.151549Z",
     "start_time": "2024-02-17T05:28:56.137593Z"
    }
   },
   "outputs": [
    {
     "data": {
      "text/plain": "6"
     },
     "execution_count": 38,
     "metadata": {},
     "output_type": "execute_result"
    }
   ],
   "source": [
    "our_name_for_max = max\n",
    "our_name_for_max(2, 6)"
   ],
   "id": "7cf0c9408d094fb8"
  },
  {
   "cell_type": "markdown",
   "metadata": {},
   "source": [
    "The old name for `max` is still around:"
   ],
   "id": "bec45acaf8819373"
  },
  {
   "cell_type": "code",
   "execution_count": 39,
   "metadata": {
    "ExecuteTime": {
     "end_time": "2024-02-17T05:28:59.399409Z",
     "start_time": "2024-02-17T05:28:59.385474Z"
    }
   },
   "outputs": [
    {
     "data": {
      "text/plain": "6"
     },
     "execution_count": 39,
     "metadata": {},
     "output_type": "execute_result"
    }
   ],
   "source": [
    "max(2, 6)"
   ],
   "id": "4677d38eb577fc7d"
  },
  {
   "cell_type": "markdown",
   "metadata": {},
   "source": [
    "Try just writing `max` or `our_name_for_max` (or the name of any other function) in a cell, and run that cell.  Python will print out a (very brief) description of the function."
   ],
   "id": "6e9ae2d59275671e"
  },
  {
   "cell_type": "code",
   "execution_count": 40,
   "metadata": {
    "ExecuteTime": {
     "end_time": "2024-02-17T05:29:01.784514Z",
     "start_time": "2024-02-17T05:29:01.769201Z"
    }
   },
   "outputs": [
    {
     "data": {
      "text/plain": "<function max>"
     },
     "execution_count": 40,
     "metadata": {},
     "output_type": "execute_result"
    }
   ],
   "source": [
    "max"
   ],
   "id": "4795d9ef1cde83db"
  },
  {
   "cell_type": "markdown",
   "metadata": {},
   "source": [
    "Now try writing `max?` or `our_name_for_max?` (or the name of any other function) in a cell, and run that cell.  A information box should show up at the bottom of your screen a longer description of the function\n",
    "\n",
    "*Note: You can also press Shift+Tab after clicking on a name to see similar information!*"
   ],
   "id": "6404dba0c479940d"
  },
  {
   "cell_type": "code",
   "execution_count": 42,
   "metadata": {
    "ExecuteTime": {
     "end_time": "2024-02-17T05:29:17.870779Z",
     "start_time": "2024-02-17T05:29:17.857737Z"
    }
   },
   "outputs": [],
   "source": [
    "our_name_for_max?"
   ],
   "id": "9ea71de504a38dbf"
  },
  {
   "cell_type": "markdown",
   "metadata": {},
   "source": [
    "Let's look at what happens when we set `max`to a non-function value. You'll notice that a TypeError will occur when you try calling `max`. Things like integers and strings are not callable like this: `\"hello\"(2)`, which is calling a string and will error. Look out for any functions that might have been renamed when you encounter this type of error"
   ],
   "id": "ee1637381159af9b"
  },
  {
   "cell_type": "code",
   "execution_count": 43,
   "metadata": {
    "tags": [
     "raises-exception"
    ],
    "ExecuteTime": {
     "end_time": "2024-02-17T05:29:22.087809Z",
     "start_time": "2024-02-17T05:29:21.976450Z"
    }
   },
   "outputs": [
    {
     "data": {
      "text/plain": "<IPython.core.display.Markdown object>",
      "text/markdown": "## **Uh-o it seems we have an error!**"
     },
     "metadata": {},
     "output_type": "display_data"
    },
    {
     "data": {
      "text/plain": "<IPython.core.display.Markdown object>",
      "text/markdown": "It seems we have a TypeError. TypeErrors are usually because of:"
     },
     "metadata": {},
     "output_type": "display_data"
    },
    {
     "data": {
      "text/plain": "<IPython.core.display.Markdown object>",
      "text/markdown": "1. Using a variable or object that isn't a function but using it as one, i.e `3(2)`, in this case we are using 3 as a function, if you wanted to multiply you need `3*(2)`"
     },
     "metadata": {},
     "output_type": "display_data"
    },
    {
     "data": {
      "text/plain": "<IPython.core.display.Markdown object>",
      "text/markdown": "The Data 8 Reference might be helpful to look over for examples and usage: [Data 8 Reference](http://data8.org/sp22/python-reference.html)"
     },
     "metadata": {},
     "output_type": "display_data"
    },
    {
     "data": {
      "text/plain": "<IPython.core.display.Markdown object>",
      "text/markdown": "If you are having more trouble please feel free to consult a staff member                         \n or see the error message below "
     },
     "metadata": {},
     "output_type": "display_data"
    },
    {
     "data": {
      "text/plain": "Accordion(children=(VBox(children=(VBox(children=(Label(value='Was the message you saw useful?'), Dropdown(opt…",
      "application/vnd.jupyter.widget-view+json": {
       "version_major": 2,
       "version_minor": 0,
       "model_id": "70decf9ad2ee4e6c979d93b6e4eaab10"
      }
     },
     "metadata": {},
     "output_type": "display_data"
    },
    {
     "ename": "TypeError",
     "evalue": "'int' object is not callable",
     "output_type": "error",
     "traceback": [
      "\u001B[0;31m---------------------------------------------------------------------------\u001B[0m",
      "\u001B[0;31mTypeError\u001B[0m                                 Traceback (most recent call last)",
      "Cell \u001B[0;32mIn[43], line 2\u001B[0m\n\u001B[1;32m      1\u001B[0m \u001B[38;5;28mmax\u001B[39m \u001B[38;5;241m=\u001B[39m \u001B[38;5;241m6\u001B[39m\n\u001B[0;32m----> 2\u001B[0m \u001B[38;5;28;43mmax\u001B[39;49m\u001B[43m(\u001B[49m\u001B[38;5;241;43m2\u001B[39;49m\u001B[43m,\u001B[49m\u001B[43m \u001B[49m\u001B[38;5;241;43m6\u001B[39;49m\u001B[43m)\u001B[49m\n",
      "\u001B[0;31mTypeError\u001B[0m: 'int' object is not callable"
     ]
    }
   ],
   "source": [
    "max = 6\n",
    "max(2, 6)"
   ],
   "id": "7908bc82567d71a7"
  },
  {
   "cell_type": "code",
   "execution_count": 44,
   "metadata": {
    "ExecuteTime": {
     "end_time": "2024-02-17T05:29:29.235329Z",
     "start_time": "2024-02-17T05:29:29.224002Z"
    }
   },
   "outputs": [],
   "source": [
    "# This cell resets max to the built-in function. Just run this cell, don't change its contents\n",
    "import builtins\n",
    "max = builtins.max"
   ],
   "id": "d8f7147b6b861867"
  },
  {
   "cell_type": "markdown",
   "metadata": {},
   "source": [
    "Why is this useful?  Since functions are just values, it's possible to pass them as arguments to other functions.  Here's a simple but not-so-practical example: we can make an array of functions."
   ],
   "id": "d7487960d042cda2"
  },
  {
   "cell_type": "code",
   "execution_count": 45,
   "metadata": {
    "ExecuteTime": {
     "end_time": "2024-02-17T05:29:31.667798Z",
     "start_time": "2024-02-17T05:29:31.653897Z"
    }
   },
   "outputs": [
    {
     "data": {
      "text/plain": "array([<built-in function max>, <function average at 0x104c2a9e0>,\n       <function are.equal_to at 0x1613e29e0>], dtype=object)"
     },
     "execution_count": 45,
     "metadata": {},
     "output_type": "execute_result"
    }
   ],
   "source": [
    "make_array(max, np.average, are.equal_to)"
   ],
   "id": "a9340d5567a25678"
  },
  {
   "cell_type": "markdown",
   "metadata": {},
   "source": [
    "**Question 3.1.** Make an array containing any 3 other functions you've seen.  Call it `some_functions`.\n"
   ],
   "id": "dce941d591aa798b"
  },
  {
   "cell_type": "code",
   "execution_count": 50,
   "metadata": {
    "tags": [],
    "ExecuteTime": {
     "end_time": "2024-02-17T05:30:22.784667Z",
     "start_time": "2024-02-17T05:30:22.761975Z"
    }
   },
   "outputs": [
    {
     "data": {
      "text/plain": "array([<built-in function print>, <function make_array at 0x136625090>,\n       <built-in function min>], dtype=object)"
     },
     "execution_count": 50,
     "metadata": {},
     "output_type": "execute_result"
    }
   ],
   "source": [
    "some_functions = make_array(print, make_array, min)\n",
    "some_functions"
   ],
   "id": "cb895b2f08563388"
  },
  {
   "cell_type": "code",
   "execution_count": 51,
   "metadata": {
    "deletable": false,
    "editable": false,
    "ExecuteTime": {
     "end_time": "2024-02-17T05:30:25.579007Z",
     "start_time": "2024-02-17T05:30:25.539267Z"
    }
   },
   "outputs": [
    {
     "data": {
      "text/plain": "q31 results: All test cases passed!",
      "text/html": "<p><strong><pre style='display: inline;'>q31</pre></strong> passed! 🚀</p>"
     },
     "execution_count": 51,
     "metadata": {},
     "output_type": "execute_result"
    }
   ],
   "source": [
    "grader.check(\"q31\")"
   ],
   "id": "58cd3b7cb280c81d"
  },
  {
   "cell_type": "markdown",
   "metadata": {},
   "source": [
    "Working with functions as values can lead to some funny-looking code. For example, see if you can figure out why the following code works. Check your explanation with a peer or a staff member."
   ],
   "id": "c64ec1a2a8af3ecc"
  },
  {
   "cell_type": "code",
   "execution_count": 52,
   "metadata": {
    "ExecuteTime": {
     "end_time": "2024-02-17T05:30:27.955076Z",
     "start_time": "2024-02-17T05:30:27.940976Z"
    }
   },
   "outputs": [
    {
     "data": {
      "text/plain": "7"
     },
     "execution_count": 52,
     "metadata": {},
     "output_type": "execute_result"
    }
   ],
   "source": [
    "make_array(max, np.average, are.equal_to).item(0)(4, -2, 7)"
   ],
   "id": "10d4720a00aa79a7"
  },
  {
   "cell_type": "markdown",
   "metadata": {},
   "source": [
    "A more useful example of passing functions to other functions as arguments is the table method `apply`.\n",
    "\n",
    "`apply` calls a function many times, once on *each* element in a column of a table.  It produces an *array* of the results.  Here we use `apply` to convert every CEO's pay to a number, using the function you defined:\n",
    "\n",
    "*Note:* You'll see an array of numbers like `5.325e+07`. This is Python's way of representing **scientific notation**. We interpret `5.325e+07` as `5.325 * 10**7`, or `53,250,000`."
   ],
   "id": "14fff036d72c14bc"
  },
  {
   "cell_type": "code",
   "execution_count": 53,
   "metadata": {
    "ExecuteTime": {
     "end_time": "2024-02-17T05:30:30.042238Z",
     "start_time": "2024-02-17T05:30:30.028926Z"
    }
   },
   "outputs": [
    {
     "data": {
      "text/plain": "array([53250000, 53240000, 44910000, 35980000, 33360000, 24840000,\n       22040000, 19860000, 19620000, 19320000, 18760000, 18610000,\n       18360000, 18090000, 17100000, 16629999, 16329999, 16140000,\n       16100000, 16020000, 15100000, 14980000, 14630000, 14510000,\n       14440000, 14360000, 14310000, 14090000, 14000000, 13670000,\n       12340000, 12200000, 12180000, 12130000, 12050000, 11840000,\n       11710000, 11630000, 11160000, 11110000, 11110000, 10730000,\n       10500000, 10430000, 10370000, 10280000, 10270000, 10180000,\n       10160000,  9970000,  9960000,  9860000,  9740000,  9420000,\n        9390000,  9220000,  9060000,  9030000,  8860000,  8760000,\n        8570000,  8380000,  8359999,  8350000,  8230000,  7860000,\n        7700000,  7580000,  7510000,  7230000,  7210000,  7120000,\n        6880000,  6770000,  6640000,  6560000,  6140000,  5920000,\n        5900000,  5890000,  5730000,  5420000,  5040000,  4920000,\n        4920000,  4470000,  4250000,  4080000,  3930000,  3720000,\n        2880000,  2830000,  2820000,  2450000,  1790000,  1680000,\n        1530000,   940000,   810000,    70000,    40000])"
     },
     "execution_count": 53,
     "metadata": {},
     "output_type": "execute_result"
    }
   ],
   "source": [
    "raw_compensation.apply(convert_pay_string_to_number, \"Total Pay\")"
   ],
   "id": "21fdf267e9ae702d"
  },
  {
   "cell_type": "markdown",
   "metadata": {},
   "source": [
    "Here's an illustration of what that did:\n",
    "\n",
    "<img src=\"apply.png\"/>\n",
    "\n",
    "Note that we didn’t write `raw_compensation.apply(convert_pay_string_to_number(), “Total Pay”)` or `raw_compensation.apply(convert_pay_string_to_number(“Total Pay”))`. We just passed the name of the function, with no parentheses, to `apply`, because all we want to do is let `apply` know the name of the function we’d like to use and the name of the column we’d like to use it on. `apply` will then call the function `convert_pay_string_to_number` on each value in the column for us!\n",
    "\n",
    "**Question 3.2.** Using `apply`, make a table that's a copy of `raw_compensation` with one additional column called `Total Pay ($)`.  That column should contain the result of applying `convert_pay_string_to_number` to the `Total Pay` column (as we did above).  Call the new table `compensation`.\n"
   ],
   "id": "ec9df50bf61d23ee"
  },
  {
   "cell_type": "code",
   "execution_count": 65,
   "metadata": {
    "tags": [],
    "ExecuteTime": {
     "end_time": "2024-02-17T05:39:24.111781Z",
     "start_time": "2024-02-17T05:39:24.085174Z"
    }
   },
   "outputs": [
    {
     "data": {
      "text/plain": "Rank | Name               | Company (Headquarters)         | Total Pay | % Change           | Cash Pay | Equity Pay | Other Pay | Ratio of CEO pay to average industry worker pay | Total Pay ($)\n1    | Mark V. Hurd*      | Oracle (Redwood City)          | $53.25    | (No previous year) | $0.95    | $52.27     | $0.02     | 362                                             | 53250000\n2    | Safra A. Catz*     | Oracle (Redwood City)          | $53.24    | (No previous year) | $0.95    | $52.27     | $0.02     | 362                                             | 53240000\n3    | Robert A. Iger     | Walt Disney (Burbank)          | $44.91    | -3%                | $24.89   | $17.28     | $2.74     | 477                                             | 44910000\n4    | Marissa A. Mayer   | Yahoo! (Sunnyvale)             | $35.98    | -15%               | $1.00    | $34.43     | $0.55     | 342                                             | 35980000\n5    | Marc Benioff       | salesforce.com (San Francisco) | $33.36    | -16%               | $4.65    | $27.26     | $1.45     | 338                                             | 33360000\n6    | John H. Hammergren | McKesson (San Francisco)       | $24.84    | -4%                | $12.10   | $12.37     | $0.37     | 222                                             | 24840000\n7    | John S. Watson     | Chevron (San Ramon)            | $22.04    | -15%               | $4.31    | $14.68     | $3.05     | 183                                             | 22040000\n8    | Jeffrey Weiner     | LinkedIn (Mountain View)       | $19.86    | 27%                | $2.47    | $17.26     | $0.13     | 182                                             | 19860000\n9    | John T. Chambers** | Cisco Systems (San Jose)       | $19.62    | 19%                | $5.10    | $14.51     | $0.01     | 170                                             | 19620000\n10   | John G. Stumpf     | Wells Fargo  (San Francisco)   | $19.32    | -10%               | $6.80    | $12.50     | $0.02     | 256                                             | 19320000\n... (91 rows omitted)",
      "text/html": "<table border=\"1\" class=\"dataframe\">\n    <thead>\n        <tr>\n            <th>Rank</th> <th>Name</th> <th>Company (Headquarters)</th> <th>Total Pay</th> <th>% Change</th> <th>Cash Pay</th> <th>Equity Pay</th> <th>Other Pay</th> <th>Ratio of CEO pay to average industry worker pay</th> <th>Total Pay ($)</th>\n        </tr>\n    </thead>\n    <tbody>\n        <tr>\n            <td>1   </td> <td>Mark V. Hurd*     </td> <td>Oracle (Redwood City)         </td> <td>$53.25   </td> <td>(No previous year)</td> <td>$0.95   </td> <td>$52.27    </td> <td>$0.02    </td> <td>362                                            </td> <td>53250000     </td>\n        </tr>\n        <tr>\n            <td>2   </td> <td>Safra A. Catz*    </td> <td>Oracle (Redwood City)         </td> <td>$53.24   </td> <td>(No previous year)</td> <td>$0.95   </td> <td>$52.27    </td> <td>$0.02    </td> <td>362                                            </td> <td>53240000     </td>\n        </tr>\n        <tr>\n            <td>3   </td> <td>Robert A. Iger    </td> <td>Walt Disney (Burbank)         </td> <td>$44.91   </td> <td>-3%               </td> <td>$24.89  </td> <td>$17.28    </td> <td>$2.74    </td> <td>477                                            </td> <td>44910000     </td>\n        </tr>\n        <tr>\n            <td>4   </td> <td>Marissa A. Mayer  </td> <td>Yahoo! (Sunnyvale)            </td> <td>$35.98   </td> <td>-15%              </td> <td>$1.00   </td> <td>$34.43    </td> <td>$0.55    </td> <td>342                                            </td> <td>35980000     </td>\n        </tr>\n        <tr>\n            <td>5   </td> <td>Marc Benioff      </td> <td>salesforce.com (San Francisco)</td> <td>$33.36   </td> <td>-16%              </td> <td>$4.65   </td> <td>$27.26    </td> <td>$1.45    </td> <td>338                                            </td> <td>33360000     </td>\n        </tr>\n        <tr>\n            <td>6   </td> <td>John H. Hammergren</td> <td>McKesson (San Francisco)      </td> <td>$24.84   </td> <td>-4%               </td> <td>$12.10  </td> <td>$12.37    </td> <td>$0.37    </td> <td>222                                            </td> <td>24840000     </td>\n        </tr>\n        <tr>\n            <td>7   </td> <td>John S. Watson    </td> <td>Chevron (San Ramon)           </td> <td>$22.04   </td> <td>-15%              </td> <td>$4.31   </td> <td>$14.68    </td> <td>$3.05    </td> <td>183                                            </td> <td>22040000     </td>\n        </tr>\n        <tr>\n            <td>8   </td> <td>Jeffrey Weiner    </td> <td>LinkedIn (Mountain View)      </td> <td>$19.86   </td> <td>27%               </td> <td>$2.47   </td> <td>$17.26    </td> <td>$0.13    </td> <td>182                                            </td> <td>19860000     </td>\n        </tr>\n        <tr>\n            <td>9   </td> <td>John T. Chambers**</td> <td>Cisco Systems (San Jose)      </td> <td>$19.62   </td> <td>19%               </td> <td>$5.10   </td> <td>$14.51    </td> <td>$0.01    </td> <td>170                                            </td> <td>19620000     </td>\n        </tr>\n        <tr>\n            <td>10  </td> <td>John G. Stumpf    </td> <td>Wells Fargo  (San Francisco)  </td> <td>$19.32   </td> <td>-10%              </td> <td>$6.80   </td> <td>$12.50    </td> <td>$0.02    </td> <td>256                                            </td> <td>19320000     </td>\n        </tr>\n    </tbody>\n</table>\n<p>... (91 rows omitted)</p>"
     },
     "execution_count": 65,
     "metadata": {},
     "output_type": "execute_result"
    }
   ],
   "source": [
    "compensation = raw_compensation.with_column(\n",
    "    \"Total Pay ($)\",\n",
    "    raw_compensation.apply(convert_pay_string_to_number, \"Total Pay\")\n",
    "    )\n",
    "compensation"
   ],
   "id": "31d2e65d9a96c706"
  },
  {
   "cell_type": "code",
   "execution_count": 66,
   "metadata": {
    "deletable": false,
    "editable": false,
    "ExecuteTime": {
     "end_time": "2024-02-17T05:39:27.251405Z",
     "start_time": "2024-02-17T05:39:27.135602Z"
    }
   },
   "outputs": [
    {
     "data": {
      "text/plain": "q32 results:\n    q32 - 1 result:\n        ❌ Test case failed\n        Trying:\n            'Total Pay ($)' in compensation.column_labels\n        Expecting:\n            True\n        **********************************************************************\n        Line 3, in q32 0\n        Failed example:\n            'Total Pay ($)' in compensation.column_labels\n        Exception raised:\n            Traceback (most recent call last):\n              File \"/Users/tianze/anaconda3/lib/python3.10/doctest.py\", line 1350, in __run\n                exec(compile(example.source, filename, \"single\",\n              File \"<doctest q32 0[0]>\", line 1, in <module>\n                'Total Pay ($)' in compensation.column_labels\n            AttributeError: 'Table' object has no attribute 'column_labels'\n\n    q32 - 2 result:\n        ✅ Test case passed",
      "text/html": "<p><strong style='color: red;'><pre style='display: inline;'>q32</pre> results:</strong></p><p><strong><pre style='display: inline;'>q32 - 1</pre> result:</strong></p><pre>    ❌ Test case failed\n    Trying:\n        'Total Pay ($)' in compensation.column_labels\n    Expecting:\n        True\n    **********************************************************************\n    Line 3, in q32 0\n    Failed example:\n        'Total Pay ($)' in compensation.column_labels\n    Exception raised:\n        Traceback (most recent call last):\n          File \"/Users/tianze/anaconda3/lib/python3.10/doctest.py\", line 1350, in __run\n            exec(compile(example.source, filename, \"single\",\n          File \"<doctest q32 0[0]>\", line 1, in <module>\n            'Total Pay ($)' in compensation.column_labels\n        AttributeError: 'Table' object has no attribute 'column_labels'\n</pre><p><strong><pre style='display: inline;'>q32 - 2</pre> result:</strong></p><pre>    ✅ Test case passed</pre>"
     },
     "execution_count": 66,
     "metadata": {},
     "output_type": "execute_result"
    }
   ],
   "source": [
    "grader.check(\"q32\")"
   ],
   "id": "8f7003d73fdbab1d"
  },
  {
   "cell_type": "markdown",
   "metadata": {},
   "source": [
    "Now that we have all the pays as numbers, we can learn more about them through computation."
   ],
   "id": "7db0e5418d5893ce"
  },
  {
   "cell_type": "markdown",
   "metadata": {},
   "source": [
    "**Question 3.3.** Compute the average total pay of the CEOs in the dataset.\n"
   ],
   "id": "e0013993962a9a66"
  },
  {
   "cell_type": "code",
   "execution_count": 56,
   "metadata": {
    "tags": [],
    "ExecuteTime": {
     "end_time": "2024-02-17T05:32:26.310003Z",
     "start_time": "2024-02-17T05:32:26.281663Z"
    }
   },
   "outputs": [
    {
     "data": {
      "text/plain": "11558613.831683168"
     },
     "execution_count": 56,
     "metadata": {},
     "output_type": "execute_result"
    }
   ],
   "source": [
    "average_total_pay = np.average(compensation.column(\"Total Pay ($)\"))\n",
    "average_total_pay"
   ],
   "id": "ede38433e477129a"
  },
  {
   "cell_type": "code",
   "execution_count": 57,
   "metadata": {
    "deletable": false,
    "editable": false,
    "ExecuteTime": {
     "end_time": "2024-02-17T05:32:27.844332Z",
     "start_time": "2024-02-17T05:32:27.833176Z"
    }
   },
   "outputs": [
    {
     "data": {
      "text/plain": "q33 results: All test cases passed!",
      "text/html": "<p><strong><pre style='display: inline;'>q33</pre></strong> passed! 🌟</p>"
     },
     "execution_count": 57,
     "metadata": {},
     "output_type": "execute_result"
    }
   ],
   "source": [
    "grader.check(\"q33\")"
   ],
   "id": "d8e2e079bc9335b"
  },
  {
   "cell_type": "markdown",
   "metadata": {},
   "source": [
    "**Question 3.4** Companies pay executives in a variety of ways: in cash, by granting stock or other equity in the company, or with ancillary benefits (like private jets).  Compute the proportion of each CEO's pay that was cash.  (Your answer should be an array of numbers, one for each CEO in the dataset.)\n",
    "\n",
    "*Hint:* What function have you defined that can convert a string to a number?\n"
   ],
   "id": "4bca88daa5c37607"
  },
  {
   "cell_type": "code",
   "execution_count": 59,
   "metadata": {
    "tags": [],
    "ExecuteTime": {
     "end_time": "2024-02-17T05:33:18.319115Z",
     "start_time": "2024-02-17T05:33:18.242202Z"
    }
   },
   "outputs": [
    {
     "data": {
      "text/plain": "array([ 0.01784038,  0.01784373,  0.55421955,  0.02779322,  0.13938849,\n        0.48711755,  0.19555354,  0.12437059,  0.25993884,  0.35196687,\n        0.3075693 ,  0.22138635,  0.13126362,  0.1708126 ,  0.23099415,\n        0.06734817,  0.13043479,  0.28004957,  0.33229814,  0.15355805,\n        0.29337748,  0.21829105,  0.31100478,  0.25086147,  0.2299169 ,\n        0.16991643,  0.31795947,  0.26188786,  0.28357143,  0.15654718,\n        0.38168558,  0.28934426,  0.20361248,  0.47650453,  0.45643154,\n        0.36402027,  0.2177626 ,  0.24763543,  0.42562724,  0.2610261 ,\n        0.18361836,  0.1444548 ,  0.33333333,  0.10834132,  0.20925747,\n        0.97276265,  0.22979552,  0.22789784,  0.37893701,  0.25175527,\n        0.73895582,  0.37018256,  0.2412731 ,  0.21337569,  0.20553781,\n        0.23318872,  0.33664459,  0.3875969 ,  0.56094808,  0.11757991,\n        0.35239207,  0.24462995,  0.24999991,  0.23712575,  0.43377886,\n        0.31424936,  0.46363636,  0.32585752,  0.24766977,  0.98755187,\n        0.27184466,  0.96207865,  0.31831395,  0.81979321,  0.23795181,\n        0.17530488,  0.21172638,  0.37162162,  0.27288136,  0.26994907,\n        0.55148342,  0.3597786 ,  0.        ,  0.47154472,  0.47154472,\n        0.29753915,  0.16235294,  0.48529412,  0.46819338,  0.32526882,\n        0.98958333,  0.61130742,  0.67021277,  0.75510204,  0.50837989,\n        0.98809524,  0.98039216,  0.9893617 ,  0.87654321,  0.        ,\n        1.        ])"
     },
     "execution_count": 59,
     "metadata": {},
     "output_type": "execute_result"
    }
   ],
   "source": [
    "compensation2 = compensation.with_column(\"Cash Pay\", compensation.apply(convert_pay_string_to_number, \"Cash Pay\"))\n",
    "cash_proportion = compensation2.column(\"Cash Pay\") / compensation2.column(\"Total Pay ($)\")\n",
    "cash_proportion"
   ],
   "id": "988bd2691fd4a4b9"
  },
  {
   "cell_type": "code",
   "execution_count": 60,
   "metadata": {
    "deletable": false,
    "editable": false,
    "ExecuteTime": {
     "end_time": "2024-02-17T05:33:20.741426Z",
     "start_time": "2024-02-17T05:33:20.689263Z"
    }
   },
   "outputs": [
    {
     "data": {
      "text/plain": "q34 results: All test cases passed!",
      "text/html": "<p><strong><pre style='display: inline;'>q34</pre></strong> passed! 💯</p>"
     },
     "execution_count": 60,
     "metadata": {},
     "output_type": "execute_result"
    }
   ],
   "source": [
    "grader.check(\"q34\")"
   ],
   "id": "eb9ba60d66889e05"
  },
  {
   "cell_type": "markdown",
   "metadata": {
    "for_assignment_type": "solution"
   },
   "source": [
    "**Why is `apply` useful?**\n",
    "\n",
    "For operations like arithmetic, or the functions in the NumPy library, you don't need to use `apply`, because they automatically work on each element of an array.  But there are many things that don't.  The string manipulation we did in today's lab is one example.  Since you can write any code you want in a function, `apply` gives you total control over how you operate on data."
   ],
   "id": "d260fd5f52b13d83"
  },
  {
   "cell_type": "markdown",
   "metadata": {},
   "source": [
    "Check out the `% Change` column in `compensation`.  It shows the percentage increase in the CEO's pay from the previous year.  For CEOs with no previous year on record, it instead says \"(No previous year)\".  The values in this column are *strings*, not numbers, so like the `Total Pay` column, it's not usable without a bit of extra work.\n",
    "\n",
    "Given your current pay and the percentage increase from the previous year, you can compute your previous year's pay.  For example, if your pay is $\\$120$ this year, and that's an increase of 50% from the previous year, then your previous year's pay was $\\frac{\\$120}{1 + \\frac{50}{100}}$, or \\$80.\n",
    "\n",
    "**Question 3.5** Create a new table called `with_previous_compensation`.  It should be a copy of `compensation`, but with the \"(No previous year)\" CEOs filtered out, and with an extra column called `2014 Total Pay ($)`.  That column should have each CEO's pay in 2014.\n",
    "\n",
    "*Hint 1:* You can print out your results after each step to make sure you're on the right track.\n",
    "\n",
    "*Hint 2:* We've provided a structure that you can use to get to the answer. However, if it's confusing, feel free to delete the current structure and approach the problem your own way!\n"
   ],
   "id": "a87cb497b9531dba"
  },
  {
   "cell_type": "code",
   "outputs": [
    {
     "data": {
      "text/plain": "Rank | Name               | Company (Headquarters)         | Total Pay | % Change           | Cash Pay | Equity Pay | Other Pay | Ratio of CEO pay to average industry worker pay | Total Pay ($)\n1    | Mark V. Hurd*      | Oracle (Redwood City)          | $53.25    | (No previous year) | $0.95    | $52.27     | $0.02     | 362                                             | 53250000\n2    | Safra A. Catz*     | Oracle (Redwood City)          | $53.24    | (No previous year) | $0.95    | $52.27     | $0.02     | 362                                             | 53240000\n3    | Robert A. Iger     | Walt Disney (Burbank)          | $44.91    | -3%                | $24.89   | $17.28     | $2.74     | 477                                             | 44910000\n4    | Marissa A. Mayer   | Yahoo! (Sunnyvale)             | $35.98    | -15%               | $1.00    | $34.43     | $0.55     | 342                                             | 35980000\n5    | Marc Benioff       | salesforce.com (San Francisco) | $33.36    | -16%               | $4.65    | $27.26     | $1.45     | 338                                             | 33360000\n6    | John H. Hammergren | McKesson (San Francisco)       | $24.84    | -4%                | $12.10   | $12.37     | $0.37     | 222                                             | 24840000\n7    | John S. Watson     | Chevron (San Ramon)            | $22.04    | -15%               | $4.31    | $14.68     | $3.05     | 183                                             | 22040000\n8    | Jeffrey Weiner     | LinkedIn (Mountain View)       | $19.86    | 27%                | $2.47    | $17.26     | $0.13     | 182                                             | 19860000\n9    | John T. Chambers** | Cisco Systems (San Jose)       | $19.62    | 19%                | $5.10    | $14.51     | $0.01     | 170                                             | 19620000\n10   | John G. Stumpf     | Wells Fargo  (San Francisco)   | $19.32    | -10%               | $6.80    | $12.50     | $0.02     | 256                                             | 19320000\n... (91 rows omitted)",
      "text/html": "<table border=\"1\" class=\"dataframe\">\n    <thead>\n        <tr>\n            <th>Rank</th> <th>Name</th> <th>Company (Headquarters)</th> <th>Total Pay</th> <th>% Change</th> <th>Cash Pay</th> <th>Equity Pay</th> <th>Other Pay</th> <th>Ratio of CEO pay to average industry worker pay</th> <th>Total Pay ($)</th>\n        </tr>\n    </thead>\n    <tbody>\n        <tr>\n            <td>1   </td> <td>Mark V. Hurd*     </td> <td>Oracle (Redwood City)         </td> <td>$53.25   </td> <td>(No previous year)</td> <td>$0.95   </td> <td>$52.27    </td> <td>$0.02    </td> <td>362                                            </td> <td>53250000     </td>\n        </tr>\n        <tr>\n            <td>2   </td> <td>Safra A. Catz*    </td> <td>Oracle (Redwood City)         </td> <td>$53.24   </td> <td>(No previous year)</td> <td>$0.95   </td> <td>$52.27    </td> <td>$0.02    </td> <td>362                                            </td> <td>53240000     </td>\n        </tr>\n        <tr>\n            <td>3   </td> <td>Robert A. Iger    </td> <td>Walt Disney (Burbank)         </td> <td>$44.91   </td> <td>-3%               </td> <td>$24.89  </td> <td>$17.28    </td> <td>$2.74    </td> <td>477                                            </td> <td>44910000     </td>\n        </tr>\n        <tr>\n            <td>4   </td> <td>Marissa A. Mayer  </td> <td>Yahoo! (Sunnyvale)            </td> <td>$35.98   </td> <td>-15%              </td> <td>$1.00   </td> <td>$34.43    </td> <td>$0.55    </td> <td>342                                            </td> <td>35980000     </td>\n        </tr>\n        <tr>\n            <td>5   </td> <td>Marc Benioff      </td> <td>salesforce.com (San Francisco)</td> <td>$33.36   </td> <td>-16%              </td> <td>$4.65   </td> <td>$27.26    </td> <td>$1.45    </td> <td>338                                            </td> <td>33360000     </td>\n        </tr>\n        <tr>\n            <td>6   </td> <td>John H. Hammergren</td> <td>McKesson (San Francisco)      </td> <td>$24.84   </td> <td>-4%               </td> <td>$12.10  </td> <td>$12.37    </td> <td>$0.37    </td> <td>222                                            </td> <td>24840000     </td>\n        </tr>\n        <tr>\n            <td>7   </td> <td>John S. Watson    </td> <td>Chevron (San Ramon)           </td> <td>$22.04   </td> <td>-15%              </td> <td>$4.31   </td> <td>$14.68    </td> <td>$3.05    </td> <td>183                                            </td> <td>22040000     </td>\n        </tr>\n        <tr>\n            <td>8   </td> <td>Jeffrey Weiner    </td> <td>LinkedIn (Mountain View)      </td> <td>$19.86   </td> <td>27%               </td> <td>$2.47   </td> <td>$17.26    </td> <td>$0.13    </td> <td>182                                            </td> <td>19860000     </td>\n        </tr>\n        <tr>\n            <td>9   </td> <td>John T. Chambers**</td> <td>Cisco Systems (San Jose)      </td> <td>$19.62   </td> <td>19%               </td> <td>$5.10   </td> <td>$14.51    </td> <td>$0.01    </td> <td>170                                            </td> <td>19620000     </td>\n        </tr>\n        <tr>\n            <td>10  </td> <td>John G. Stumpf    </td> <td>Wells Fargo  (San Francisco)  </td> <td>$19.32   </td> <td>-10%              </td> <td>$6.80   </td> <td>$12.50    </td> <td>$0.02    </td> <td>256                                            </td> <td>19320000     </td>\n        </tr>\n    </tbody>\n</table>\n<p>... (91 rows omitted)</p>"
     },
     "execution_count": 73,
     "metadata": {},
     "output_type": "execute_result"
    }
   ],
   "source": [
    "compensation"
   ],
   "metadata": {
    "collapsed": false,
    "ExecuteTime": {
     "end_time": "2024-02-17T05:43:02.160401Z",
     "start_time": "2024-02-17T05:43:02.118030Z"
    }
   },
   "id": "b3b97f3679b1c8fa",
   "execution_count": 73
  },
  {
   "cell_type": "code",
   "execution_count": 83,
   "metadata": {
    "tags": [],
    "ExecuteTime": {
     "end_time": "2024-02-17T05:44:51.669587Z",
     "start_time": "2024-02-17T05:44:51.644359Z"
    }
   },
   "outputs": [
    {
     "data": {
      "text/plain": "Rank | Name               | Company (Headquarters)         | Total Pay | % Change | Cash Pay | Equity Pay | Other Pay | Ratio of CEO pay to average industry worker pay | Total Pay ($) | 2014 Total Pay ($)\n3    | Robert A. Iger     | Walt Disney (Burbank)          | $44.91    | -3%      | $24.89   | $17.28     | $2.74     | 477                                             | 44910000      | 4.6299e+07\n4    | Marissa A. Mayer   | Yahoo! (Sunnyvale)             | $35.98    | -15%     | $1.00    | $34.43     | $0.55     | 342                                             | 35980000      | 4.23294e+07\n5    | Marc Benioff       | salesforce.com (San Francisco) | $33.36    | -16%     | $4.65    | $27.26     | $1.45     | 338                                             | 33360000      | 3.97143e+07\n6    | John H. Hammergren | McKesson (San Francisco)       | $24.84    | -4%      | $12.10   | $12.37     | $0.37     | 222                                             | 24840000      | 2.5875e+07\n7    | John S. Watson     | Chevron (San Ramon)            | $22.04    | -15%     | $4.31    | $14.68     | $3.05     | 183                                             | 22040000      | 2.59294e+07\n8    | Jeffrey Weiner     | LinkedIn (Mountain View)       | $19.86    | 27%      | $2.47    | $17.26     | $0.13     | 182                                             | 19860000      | 1.56378e+07\n9    | John T. Chambers** | Cisco Systems (San Jose)       | $19.62    | 19%      | $5.10    | $14.51     | $0.01     | 170                                             | 19620000      | 1.64874e+07\n10   | John G. Stumpf     | Wells Fargo  (San Francisco)   | $19.32    | -10%     | $6.80    | $12.50     | $0.02     | 256                                             | 19320000      | 2.14667e+07\n11   | John C. Martin**   | Gilead Sciences (Foster City)  | $18.76    | -1%      | $5.77    | $12.98     | $0.01     | 117                                             | 18760000      | 1.89495e+07\n13   | Shantanu Narayen   | Adobe Systems (San Jose)       | $18.36    | 3%       | $2.41    | $15.85     | $0.09     | 125                                             | 18360000      | 1.78252e+07\n... (70 rows omitted)",
      "text/html": "<table border=\"1\" class=\"dataframe\">\n    <thead>\n        <tr>\n            <th>Rank</th> <th>Name</th> <th>Company (Headquarters)</th> <th>Total Pay</th> <th>% Change</th> <th>Cash Pay</th> <th>Equity Pay</th> <th>Other Pay</th> <th>Ratio of CEO pay to average industry worker pay</th> <th>Total Pay ($)</th> <th>2014 Total Pay ($)</th>\n        </tr>\n    </thead>\n    <tbody>\n        <tr>\n            <td>3   </td> <td>Robert A. Iger    </td> <td>Walt Disney (Burbank)         </td> <td>$44.91   </td> <td>-3%     </td> <td>$24.89  </td> <td>$17.28    </td> <td>$2.74    </td> <td>477                                            </td> <td>44910000     </td> <td>4.6299e+07        </td>\n        </tr>\n        <tr>\n            <td>4   </td> <td>Marissa A. Mayer  </td> <td>Yahoo! (Sunnyvale)            </td> <td>$35.98   </td> <td>-15%    </td> <td>$1.00   </td> <td>$34.43    </td> <td>$0.55    </td> <td>342                                            </td> <td>35980000     </td> <td>4.23294e+07       </td>\n        </tr>\n        <tr>\n            <td>5   </td> <td>Marc Benioff      </td> <td>salesforce.com (San Francisco)</td> <td>$33.36   </td> <td>-16%    </td> <td>$4.65   </td> <td>$27.26    </td> <td>$1.45    </td> <td>338                                            </td> <td>33360000     </td> <td>3.97143e+07       </td>\n        </tr>\n        <tr>\n            <td>6   </td> <td>John H. Hammergren</td> <td>McKesson (San Francisco)      </td> <td>$24.84   </td> <td>-4%     </td> <td>$12.10  </td> <td>$12.37    </td> <td>$0.37    </td> <td>222                                            </td> <td>24840000     </td> <td>2.5875e+07        </td>\n        </tr>\n        <tr>\n            <td>7   </td> <td>John S. Watson    </td> <td>Chevron (San Ramon)           </td> <td>$22.04   </td> <td>-15%    </td> <td>$4.31   </td> <td>$14.68    </td> <td>$3.05    </td> <td>183                                            </td> <td>22040000     </td> <td>2.59294e+07       </td>\n        </tr>\n        <tr>\n            <td>8   </td> <td>Jeffrey Weiner    </td> <td>LinkedIn (Mountain View)      </td> <td>$19.86   </td> <td>27%     </td> <td>$2.47   </td> <td>$17.26    </td> <td>$0.13    </td> <td>182                                            </td> <td>19860000     </td> <td>1.56378e+07       </td>\n        </tr>\n        <tr>\n            <td>9   </td> <td>John T. Chambers**</td> <td>Cisco Systems (San Jose)      </td> <td>$19.62   </td> <td>19%     </td> <td>$5.10   </td> <td>$14.51    </td> <td>$0.01    </td> <td>170                                            </td> <td>19620000     </td> <td>1.64874e+07       </td>\n        </tr>\n        <tr>\n            <td>10  </td> <td>John G. Stumpf    </td> <td>Wells Fargo  (San Francisco)  </td> <td>$19.32   </td> <td>-10%    </td> <td>$6.80   </td> <td>$12.50    </td> <td>$0.02    </td> <td>256                                            </td> <td>19320000     </td> <td>2.14667e+07       </td>\n        </tr>\n        <tr>\n            <td>11  </td> <td>John C. Martin**  </td> <td>Gilead Sciences (Foster City) </td> <td>$18.76   </td> <td>-1%     </td> <td>$5.77   </td> <td>$12.98    </td> <td>$0.01    </td> <td>117                                            </td> <td>18760000     </td> <td>1.89495e+07       </td>\n        </tr>\n        <tr>\n            <td>13  </td> <td>Shantanu Narayen  </td> <td>Adobe Systems (San Jose)      </td> <td>$18.36   </td> <td>3%      </td> <td>$2.41   </td> <td>$15.85    </td> <td>$0.09    </td> <td>125                                            </td> <td>18360000     </td> <td>1.78252e+07       </td>\n        </tr>\n    </tbody>\n</table>\n<p>... (70 rows omitted)</p>"
     },
     "execution_count": 83,
     "metadata": {},
     "output_type": "execute_result"
    }
   ],
   "source": [
    "# Definition to turn percent to number\n",
    "def percent_string_to_num(percent_string):\n",
    "    \"\"\"Converts a percentage string to a number.\"\"\"\n",
    "    return float(percent_string.strip(\"%\"))\n",
    "\n",
    "# Compensation table where there is a previous year\n",
    "having_previous_year = compensation.where(\"% Change\", are.not_containing(\"(No previous year)\"))\n",
    "\n",
    "# Get the percent changes as numbers instead of strings\n",
    "# We're still working off the table having_previous_year\n",
    "percent_changes = having_previous_year.apply(percent_string_to_num, \"% Change\")\n",
    "\n",
    "# Calculate the previous year's pay\n",
    "# We're still working off the table having_previous_year\n",
    "previous_pay = having_previous_year.column(\"Total Pay ($)\") / (1 + percent_changes / 100)\n",
    "\n",
    "# Put the previous pay column into the having_previous_year table\n",
    "with_previous_compensation = having_previous_year.with_column(\"2014 Total Pay ($)\", previous_pay)\n",
    "\n",
    "with_previous_compensation"
   ],
   "id": "a79fc044b9b40ad2"
  },
  {
   "cell_type": "code",
   "execution_count": 84,
   "metadata": {
    "deletable": false,
    "editable": false,
    "ExecuteTime": {
     "end_time": "2024-02-17T05:44:54.148361Z",
     "start_time": "2024-02-17T05:44:54.109256Z"
    }
   },
   "outputs": [
    {
     "data": {
      "text/plain": "q35 results: All test cases passed!",
      "text/html": "<p><strong><pre style='display: inline;'>q35</pre></strong> passed! 🙌</p>"
     },
     "execution_count": 84,
     "metadata": {},
     "output_type": "execute_result"
    }
   ],
   "source": [
    "grader.check(\"q35\")"
   ],
   "id": "ace5c4ac7961e3e8"
  },
  {
   "cell_type": "markdown",
   "metadata": {},
   "source": [
    "**Question 3.6** Determine the average pay in 2014 of the CEOs that appear in the `with_previous_compensation` table. Assign this value to the variable `average_pay_2014`.\n"
   ],
   "id": "586ab48df797b104"
  },
  {
   "cell_type": "code",
   "execution_count": 85,
   "metadata": {
    "tags": [],
    "ExecuteTime": {
     "end_time": "2024-02-17T05:44:58.446432Z",
     "start_time": "2024-02-17T05:44:58.404907Z"
    }
   },
   "outputs": [
    {
     "data": {
      "text/plain": "11794790.808715144"
     },
     "execution_count": 85,
     "metadata": {},
     "output_type": "execute_result"
    }
   ],
   "source": [
    "average_pay_2014 = np.average(with_previous_compensation.column(\"2014 Total Pay ($)\"))\n",
    "average_pay_2014"
   ],
   "id": "d528f325580b259d"
  },
  {
   "cell_type": "code",
   "execution_count": 86,
   "metadata": {
    "deletable": false,
    "editable": false,
    "ExecuteTime": {
     "end_time": "2024-02-17T05:45:00.055038Z",
     "start_time": "2024-02-17T05:45:00.037571Z"
    }
   },
   "outputs": [
    {
     "data": {
      "text/plain": "q36 results: All test cases passed!",
      "text/html": "<p><strong><pre style='display: inline;'>q36</pre></strong> passed! 🚀</p>"
     },
     "execution_count": 86,
     "metadata": {},
     "output_type": "execute_result"
    }
   ],
   "source": [
    "grader.check(\"q36\")"
   ],
   "id": "b051cc141fe33d59"
  },
  {
   "cell_type": "markdown",
   "metadata": {},
   "source": [
    "## 4. Histograms\n",
    "Earlier, we computed the average pay among the CEOs in our 102-CEO dataset.  The average doesn't tell us everything about the amounts CEOs are paid, though.  Maybe just a few CEOs make the bulk of the money, even among these 102.\n",
    "\n",
    "We can use a *histogram* method to display the *distribution* of a set of numbers.  The table method `hist` takes a single argument, the name of a column of numbers.  It produces a histogram of the numbers in that column.\n",
    "\n",
    "**Question 4.1.** Make a histogram of the total pay of the CEOs in `compensation`. Check with a peer or instructor to make sure you have the right plot. *If you get a warning, ignore it.*\n",
    "\n",
    "*Hint:* If you aren't sure how to create a histogram, refer to the [Python Reference sheet](http://data8.org/fa21/python-reference.html)."
   ],
   "id": "727b202ea7314ded"
  },
  {
   "cell_type": "code",
   "execution_count": 87,
   "metadata": {
    "tags": [],
    "ExecuteTime": {
     "end_time": "2024-02-17T05:45:05.297063Z",
     "start_time": "2024-02-17T05:45:05.062794Z"
    }
   },
   "outputs": [
    {
     "data": {
      "text/plain": "<Figure size 600x400 with 1 Axes>",
      "image/png": "[encoded data removed]"
     },
     "metadata": {},
     "output_type": "display_data"
    }
   ],
   "source": [
    "compensation.hist(\"Total Pay ($)\")"
   ],
   "id": "2edd1640b9cc4104"
  },
  {
   "cell_type": "markdown",
   "metadata": {},
   "source": [
    "**Question 4.2.** How many CEOs made more than $30 million in total pay? Find the value using code, then check that the value you found is consistent with what you see in the histogram.\n",
    "\n",
    "*Hint:* Use the table method `where` and the property `num_rows`.\n"
   ],
   "id": "c98653c9e6662400"
  },
  {
   "cell_type": "code",
   "execution_count": 88,
   "metadata": {
    "tags": [],
    "ExecuteTime": {
     "end_time": "2024-02-17T05:45:11.041235Z",
     "start_time": "2024-02-17T05:45:11.016177Z"
    }
   },
   "outputs": [
    {
     "data": {
      "text/plain": "5"
     },
     "execution_count": 88,
     "metadata": {},
     "output_type": "execute_result"
    }
   ],
   "source": [
    "num_ceos_more_than_30_million_2 = compensation.where(\"Total Pay ($)\", are.above(30*10**6)).num_rows\n",
    "num_ceos_more_than_30_million_2"
   ],
   "id": "8d63969963de26f1"
  },
  {
   "cell_type": "code",
   "execution_count": 89,
   "metadata": {
    "deletable": false,
    "editable": false,
    "ExecuteTime": {
     "end_time": "2024-02-17T05:45:13.020626Z",
     "start_time": "2024-02-17T05:45:13.007927Z"
    }
   },
   "outputs": [
    {
     "data": {
      "text/plain": "q42 results: All test cases passed!",
      "text/html": "<p><strong><pre style='display: inline;'>q42</pre></strong> passed! 🚀</p>"
     },
     "execution_count": 89,
     "metadata": {},
     "output_type": "execute_result"
    }
   ],
   "source": [
    "grader.check(\"q42\")"
   ],
   "id": "79fb4a1bd57bab9d"
  },
  {
   "cell_type": "markdown",
   "metadata": {
    "tags": []
   },
   "source": [
    "<img src=\"bolt.jpg\" alt=\"drawing\" width=\"300\"/>\n",
    "\n",
    "Bolt wants to congratulate you on finishing lab 4! You can now relax like Bolt!\n",
    "\n",
    "## 6. Submission\n",
    "\n",
    "Great job! You're finished with Lab 4!\n",
    "\n",
    "**Important submission steps:** \n",
    "1. Run the tests and verify that they all pass.\n",
    "2. Choose **Save Notebook** from the **File** menu, then **run the final cell**. \n",
    "3. Click the link to download the zip file.\n",
    "4. Then submit the zip file to the corresponding assignment according to your instructor's directions. \n",
    "\n",
    "**It is your responsibility to make sure your work is saved before running the last cell.**"
   ],
   "id": "de0df5c61a32f1ac"
  },
  {
   "cell_type": "markdown",
   "metadata": {
    "deletable": false,
    "editable": false
   },
   "source": [
    "## Submission\n",
    "\n",
    "Make sure you have run all cells in your notebook in order before running the cell below, so that all images/graphs appear in the output. The cell below will generate a zip file for you to submit. **Please save before exporting!**"
   ],
   "id": "6f4b374386a45880"
  },
  {
   "cell_type": "code",
   "execution_count": 90,
   "metadata": {
    "deletable": false,
    "editable": false,
    "ExecuteTime": {
     "end_time": "2024-02-17T05:45:27.768020Z",
     "start_time": "2024-02-17T05:45:20.491498Z"
    }
   },
   "outputs": [
    {
     "name": "stdout",
     "output_type": "stream",
     "text": [
      "Running your submission against local test cases...\n",
      "\n",
      "Your submission received the following results when run against available test cases:\n",
      "\n",
      "    q11 results: All test cases passed!\n",
      "\n",
      "    q13 results: All test cases passed!\n",
      "\n",
      "    q14 results: All test cases passed!\n",
      "\n",
      "    q21 results: All test cases passed!\n",
      "\n",
      "    q22 results: All test cases passed!\n",
      "\n",
      "    q23 results: All test cases passed!\n",
      "\n",
      "    q24 results: All test cases passed!\n",
      "\n",
      "    q31 results: All test cases passed!\n",
      "\n",
      "    q32 results:\n",
      "        q32 - 1 result:\n",
      "            ❌ Test case failed\n",
      "            Trying:\n",
      "                'Total Pay ($)' in compensation.column_labels\n",
      "            Expecting:\n",
      "                True\n",
      "            **********************************************************************\n",
      "            Line 3, in q32 0\n",
      "            Failed example:\n",
      "                'Total Pay ($)' in compensation.column_labels\n",
      "            Exception raised:\n",
      "                Traceback (most recent call last):\n",
      "                  File \"/Users/tianze/anaconda3/lib/python3.10/doctest.py\", line 1350, in __run\n",
      "                    exec(compile(example.source, filename, \"single\",\n",
      "                  File \"<doctest q32 0[0]>\", line 1, in <module>\n",
      "                    'Total Pay ($)' in compensation.column_labels\n",
      "                AttributeError: 'Table' object has no attribute 'column_labels'\n",
      "\n",
      "        q32 - 2 result:\n",
      "            ✅ Test case passed\n",
      "\n",
      "    q33 results: All test cases passed!\n",
      "\n",
      "    q34 results: All test cases passed!\n",
      "\n",
      "    q35 results: All test cases passed!\n",
      "\n",
      "    q36 results: All test cases passed!\n",
      "\n",
      "    q42 results: All test cases passed!\n"
     ]
    },
    {
     "data": {
      "text/plain": "<IPython.core.display.HTML object>",
      "text/html": "\n                    <p>\n                        Your submission has been exported. Click\n                        <a href=\"lab04_2024_02_17T00_45_20_493038.zip\" download=\"lab04_2024_02_17T00_45_20_493038.zip\" target=\"_blank\">here</a> to download\n                        the zip file.\n                    </p>\n                "
     },
     "metadata": {},
     "output_type": "display_data"
    }
   ],
   "source": [
    "# Save your notebook first, then run this cell to export your submission.\n",
    "grader.export(pdf=False, run_tests=True)"
   ],
   "id": "17ef82319b9f95cc"
  },
  {
   "cell_type": "markdown",
   "metadata": {},
   "source": [
    " "
   ],
   "id": "ad04ec904ceecf60"
  }
 ],
 "metadata": {
  "kernelspec": {
   "display_name": "Python 3 (ipykernel)",
   "language": "python",
   "name": "python3"
  },
  "language_info": {
   "codemirror_mode": {
    "name": "ipython",
    "version": 3
   },
   "file_extension": ".py",
   "mimetype": "text/x-python",
   "name": "python",
   "nbconvert_exporter": "python",
   "pygments_lexer": "ipython3",
   "version": "3.9.9"
  },
  "otter": {
   "OK_FORMAT": true,
   "tests": {
    "q11": {
     "name": "q11",
     "points": null,
     "suites": [
      {
       "cases": [
        {
         "code": ">>> # Make sure your function has the proper syntax!\n>>> to_percentage(.35) == 35.0\nTrue",
         "hidden": false,
         "locked": false
        },
        {
         "code": ">>> # Make sure you are passing in the proper argument!\n>>> twenty_percent == 20.0\nTrue",
         "hidden": false,
         "locked": false
        }
       ],
       "scored": true,
       "setup": "",
       "teardown": "",
       "type": "doctest"
      }
     ]
    },
    "q13": {
     "name": "q13",
     "points": null,
     "suites": [
      {
       "cases": [
        {
         "code": ">>> num_non_vowels(\"Go bears!\") == 6\nTrue",
         "hidden": false,
         "locked": false
        }
       ],
       "scored": true,
       "setup": "",
       "teardown": "",
       "type": "doctest"
      }
     ]
    },
    "q14": {
     "name": "q14",
     "points": null,
     "suites": [
      {
       "cases": [
        {
         "code": ">>> print_kth_top_movie_year(4)\nYear number 4 for total gross movie sales was: 2009\n",
         "hidden": false,
         "locked": false
        }
       ],
       "scored": true,
       "setup": "",
       "teardown": "",
       "type": "doctest"
      }
     ]
    },
    "q21": {
     "name": "q21",
     "points": null,
     "suites": [
      {
       "cases": [
        {
         "code": ">>> # Make sure you are examining the values in the column, not the column itself\n>>> import numpy\n>>> total_pay_type != numpy.ndarray\nTrue",
         "hidden": false,
         "locked": false
        },
        {
         "code": ">>> 'str' in str(total_pay_type)\nTrue",
         "hidden": false,
         "locked": false
        },
        {
         "code": ">>> isinstance(total_pay_type, type)\nTrue",
         "hidden": false,
         "locked": false
        },
        {
         "code": ">>> # Make sure to call the type function on a value in the column\n>>> total_pay_type != int\nTrue",
         "hidden": false,
         "locked": false
        }
       ],
       "scored": true,
       "setup": "",
       "teardown": "",
       "type": "doctest"
      }
     ]
    },
    "q22": {
     "name": "q22",
     "points": null,
     "suites": [
      {
       "cases": [
        {
         "code": ">>> str(mark_hurd_pay_string)\n'$53.25 '",
         "hidden": false,
         "locked": false
        }
       ],
       "scored": true,
       "setup": "",
       "teardown": "",
       "type": "doctest"
      }
     ]
    },
    "q23": {
     "name": "q23",
     "points": null,
     "suites": [
      {
       "cases": [
        {
         "code": ">>> # Your answer should be a number\n>>> type(mark_hurd_pay) != str\nTrue",
         "hidden": false,
         "locked": false
        },
        {
         "code": ">>> # Don't forget to give your answer in dollars, not millions of \n>>> # Dollars! \n>>> mark_hurd_pay != 5325\nTrue",
         "hidden": false,
         "locked": false
        },
        {
         "code": ">>> # Don't forget to give your answer in dollars, not millions of \n>>> # Dollars! \n>>> mark_hurd_pay == 53250000\nTrue",
         "hidden": false,
         "locked": false
        }
       ],
       "scored": true,
       "setup": "",
       "teardown": "",
       "type": "doctest"
      }
     ]
    },
    "q24": {
     "name": "q24",
     "points": null,
     "suites": [
      {
       "cases": [
        {
         "code": ">>> convert_pay_string_to_number(\"$100 \") == 100000000.0\nTrue",
         "hidden": false,
         "locked": false
        },
        {
         "code": ">>> convert_pay_string_to_number(\"$23 \") == 23000000.0\nTrue",
         "hidden": false,
         "locked": false
        }
       ],
       "scored": true,
       "setup": "",
       "teardown": "",
       "type": "doctest"
      }
     ]
    },
    "q31": {
     "name": "q31",
     "points": null,
     "suites": [
      {
       "cases": [
        {
         "code": ">>> len(some_functions)\n3",
         "hidden": false,
         "locked": false
        },
        {
         "code": ">>> # The first thing in your array may not be a function\n>>> callable(some_functions.item(0))\nTrue",
         "hidden": false,
         "locked": false
        },
        {
         "code": ">>> # The second thing in your array may not be a function\n>>> callable(some_functions.item(1))\nTrue",
         "hidden": false,
         "locked": false
        },
        {
         "code": ">>> # The third thing in your array may not be a function\n>>> callable(some_functions.item(2))\nTrue",
         "hidden": false,
         "locked": false
        }
       ],
       "scored": true,
       "setup": "",
       "teardown": "",
       "type": "doctest"
      }
     ]
    },
    "q32": {
     "name": "q32",
     "points": null,
     "suites": [
      {
       "cases": [
        {
         "code": ">>> # You either didn't add the 'Total Pay ($)' column, \n>>> # or you mislabeled it\n>>> 'Total Pay ($)' in compensation.column_labels\nTrue",
         "hidden": false,
         "locked": false
        },
        {
         "code": ">>> # You have the column in your table, but the values may be wrong\n>>> t = compensation.sort('Total Pay ($)', descending = True)\n>>> np.isclose(t.column('Total Pay ($)').item(0), 53250000.0)\nTrue",
         "hidden": false,
         "locked": false
        }
       ],
       "scored": true,
       "setup": "",
       "teardown": "",
       "type": "doctest"
      }
     ]
    },
    "q33": {
     "name": "q33",
     "points": null,
     "suites": [
      {
       "cases": [
        {
         "code": ">>> import math\n>>> math.isclose(average_total_pay, 11558613.861386139, rel_tol = 0.1)\nTrue",
         "hidden": false,
         "locked": false
        }
       ],
       "scored": true,
       "setup": "",
       "teardown": "",
       "type": "doctest"
      }
     ]
    },
    "q34": {
     "name": "q34",
     "points": null,
     "suites": [
      {
       "cases": [
        {
         "code": ">>> len(cash_proportion) == 101\nTrue",
         "hidden": false,
         "locked": false
        },
        {
         "code": ">>> import math\n>>> math.isclose(cash_proportion.item(0), 0.01784038, rel_tol = .001)\nTrue",
         "hidden": false,
         "locked": false
        }
       ],
       "scored": true,
       "setup": "",
       "teardown": "",
       "type": "doctest"
      }
     ]
    },
    "q35": {
     "name": "q35",
     "points": null,
     "suites": [
      {
       "cases": [
        {
         "code": ">>> # Make sure to remove the \"(No previous year)\" CEOs \n>>> \"(No previous year)\" not in with_previous_compensation.column(\"% Change\")\nTrue",
         "hidden": false,
         "locked": false
        },
        {
         "code": ">>> import math\n>>> # You have the column, but some of your values may be wrong\n>>> t = with_previous_compensation.sort(\"2014 Total Pay ($)\", descending = True)\n>>> value = t.column(\"2014 Total Pay ($)\").item(0)\n>>> math.isclose(value, 67700000.0, rel_tol = 0.01)\nTrue",
         "hidden": false,
         "locked": false
        },
        {
         "code": ">>> # You have the column, but your number of rows is off\n>>> with_previous_compensation.num_rows == 80\nTrue",
         "hidden": false,
         "locked": false
        }
       ],
       "scored": true,
       "setup": "",
       "teardown": "",
       "type": "doctest"
      }
     ]
    },
    "q36": {
     "name": "q36",
     "points": null,
     "suites": [
      {
       "cases": [
        {
         "code": ">>> import math\n>>> math.isclose(average_pay_2014, 11794790.817048479, rel_tol = 0.01)\nTrue",
         "hidden": false,
         "locked": false
        }
       ],
       "scored": true,
       "setup": "",
       "teardown": "",
       "type": "doctest"
      }
     ]
    },
    "q42": {
     "name": "q42",
     "points": null,
     "suites": [
      {
       "cases": [
        {
         "code": ">>> num_ceos_more_than_30_million_2 == 5\nTrue",
         "hidden": false,
         "locked": false
        }
       ],
       "scored": true,
       "setup": "",
       "teardown": "",
       "type": "doctest"
      }
     ]
    }
   }
  }
 },
 "nbformat": 4,
 "nbformat_minor": 5
}
