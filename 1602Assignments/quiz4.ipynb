{
 "cells": [
  {
   "cell_type": "code",
   "execution_count": null,
   "id": "initial_id",
   "metadata": {
    "collapsed": true
   },
   "outputs": [],
   "source": [
    "grades = Table().with_columns(\n",
    "    \"Exam 1\", make_array(68, 69, 71, 67, 78), \n",
    "    \"Exam 2\", make_array(93, 83, 72, 90, 67),\n",
    "    \"Year\", make_array(1, 2, 1, 2, 4),\n",
    "    \"Semester Grade\", make_array(\"B\", \"A\", \"D\", \"B\", \"C\")\n",
    ")\n",
    "\n",
    "percentile(46.5, grades.column(0))"
   ]
  }
 ],
 "metadata": {
  "kernelspec": {
   "display_name": "Python 3",
   "language": "python",
   "name": "python3"
  },
  "language_info": {
   "codemirror_mode": {
    "name": "ipython",
    "version": 2
   },
   "file_extension": ".py",
   "mimetype": "text/x-python",
   "name": "python",
   "nbconvert_exporter": "python",
   "pygments_lexer": "ipython2",
   "version": "2.7.6"
  }
 },
 "nbformat": 4,
 "nbformat_minor": 5
}
