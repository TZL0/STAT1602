{
 "cells": [
  {
   "cell_type": "code",
   "execution_count": 1,
   "id": "initial_id",
   "metadata": {
    "collapsed": true,
    "ExecuteTime": {
     "end_time": "2024-01-18T23:05:28.941991Z",
     "start_time": "2024-01-18T23:05:23.147671Z"
    }
   },
   "outputs": [],
   "source": [
    "import datascience as ds\n",
    "import numpy as np"
   ]
  },
  {
   "cell_type": "code",
   "execution_count": 6,
   "outputs": [
    {
     "name": "stdout",
     "output_type": "stream",
     "text": [
      "<module 'datascience.version' from '/Users/tianze/anaconda3/lib/python3.10/site-packages/datascience/version.py'>\n"
     ]
    }
   ],
   "source": [
    "print(ds.version)"
   ],
   "metadata": {
    "collapsed": false,
    "ExecuteTime": {
     "end_time": "2024-01-18T23:06:21.780216Z",
     "start_time": "2024-01-18T23:06:21.775788Z"
    }
   },
   "id": "bc9bb1fa1f3dd060"
  }
 ],
 "metadata": {
  "kernelspec": {
   "display_name": "Python 3",
   "language": "python",
   "name": "python3"
  },
  "language_info": {
   "codemirror_mode": {
    "name": "ipython",
    "version": 2
   },
   "file_extension": ".py",
   "mimetype": "text/x-python",
   "name": "python",
   "nbconvert_exporter": "python",
   "pygments_lexer": "ipython2",
   "version": "2.7.6"
  }
 },
 "nbformat": 4,
 "nbformat_minor": 5
}
